{
  "cells": [
    {
      "cell_type": "code",
      "source": [
        "from google.colab import drive\n",
        "drive.mount('/content/drive')"
      ],
      "metadata": {
        "colab": {
          "base_uri": "https://localhost:8080/"
        },
        "id": "YzUZAmm9H9z6",
        "outputId": "b96bb70d-a635-4c73-95a8-68efa2afb580"
      },
      "id": "YzUZAmm9H9z6",
      "execution_count": 1,
      "outputs": [
        {
          "output_type": "stream",
          "name": "stdout",
          "text": [
            "Drive already mounted at /content/drive; to attempt to forcibly remount, call drive.mount(\"/content/drive\", force_remount=True).\n"
          ]
        }
      ]
    },
    {
      "cell_type": "markdown",
      "id": "d51056db-c91f-4967-8405-eebc59c306c9",
      "metadata": {
        "id": "d51056db-c91f-4967-8405-eebc59c306c9"
      },
      "source": [
        "# Toxic Comment Classification Challenge\n",
        "- topic : NLP, binary classification, Data Visulization, Data Analysis\n",
        "- Model Selected : ***Logistic Regression***\n",
        "- score : 0.96963 (private)"
      ]
    },
    {
      "cell_type": "code",
      "execution_count": 2,
      "id": "33078619-a2a3-40f9-aeca-ca74ddcc57bd",
      "metadata": {
        "tags": [],
        "id": "33078619-a2a3-40f9-aeca-ca74ddcc57bd"
      },
      "outputs": [],
      "source": [
        "import re\n",
        "import numpy as np\n",
        "import pandas as pd\n",
        "\n",
        "# visualization\n",
        "import missingno as msno # missing value check\n",
        "import seaborn as sns\n",
        "import matplotlib.pyplot as plt\n",
        "%matplotlib inline\n",
        "\n",
        "from sklearn.model_selection import train_test_split\n",
        "\n",
        "from sklearn.feature_extraction.text import CountVectorizer\n",
        "from sklearn.feature_extraction.text import TfidfVectorizer\n",
        "\n",
        "# from tensorflow.keras.preprocessing.text import Tokenizer\n",
        "# from tensorflow.keras.preprocessing.sequence import pad_sequences\n",
        "\n",
        "\n",
        "# machine learning\n",
        "from sklearn.linear_model import LogisticRegression\n",
        "from sklearn.svm import SVC\n",
        "from sklearn.ensemble import RandomForestClassifier\n",
        "from sklearn.ensemble import GradientBoostingClassifier\n",
        "from sklearn.neighbors import KNeighborsClassifier\n",
        "from sklearn.naive_bayes import GaussianNB\n",
        "from sklearn.linear_model import SGDClassifier\n",
        "from sklearn.tree import DecisionTreeClassifier\n",
        "\n",
        "\n",
        "# evaluation\n",
        "from sklearn.metrics import confusion_matrix\n",
        "from sklearn.metrics import classification_report\n",
        "from sklearn.metrics import precision_score, recall_score, f1_score, accuracy_score\n",
        "from sklearn.metrics import roc_auc_score\n",
        "\n",
        "import warnings\n",
        "warnings.filterwarnings(action='ignore') "
      ]
    },
    {
      "cell_type": "markdown",
      "id": "8b36d630-09f6-4a3b-aa75-d45888c1c191",
      "metadata": {
        "id": "8b36d630-09f6-4a3b-aa75-d45888c1c191"
      },
      "source": [
        "# 1. Data Load\n",
        "##### Dataset Info\n",
        "- Train data : 159571\n",
        "- Test data :  153164\n",
        "\n",
        "- **missing value**: none\n",
        "\n",
        "##### columns of data\n",
        "- 'id' : Unique for each record\n",
        "- 'comment_text' : Columns used for classification\n",
        "- 'toxic', 'severe_toxic', 'obscene', 'threat','insult', 'identity_hate'\n",
        "    - Binary classification predicting 0, 1 for each column \n",
        "    - i.e. 6 binary classifications"
      ]
    },
    {
      "cell_type": "code",
      "execution_count": 3,
      "id": "49742a0f-0941-48f4-9d23-4fdb79ab63aa",
      "metadata": {
        "tags": [],
        "id": "49742a0f-0941-48f4-9d23-4fdb79ab63aa",
        "outputId": "2f09126f-6832-4a4f-9de1-0cfe6861e54d",
        "colab": {
          "base_uri": "https://localhost:8080/"
        }
      },
      "outputs": [
        {
          "output_type": "stream",
          "name": "stdout",
          "text": [
            "train data length:  159571\n",
            "test data length:  153164\n"
          ]
        }
      ],
      "source": [
        "import os\n",
        "file_list = []\n",
        "for dirname, _, filenames in os.walk(r'D:\\T431 - George Brown\\Adv Math for ML 2\\Final Project'):\n",
        "    for filename in filenames:\n",
        "        file_list.append(os.path.join(dirname, filename))\n",
        "        \n",
        "# import zipfile\n",
        "# for i in range(len(file_list)):\n",
        "#     with zipfile.ZipFile(file_list[i],\"r\") as z:\n",
        "#         z.extractall(\".\")\n",
        "        \n",
        "# load data\n",
        "train = pd.read_csv('drive/MyDrive/TermProject/train.csv')\n",
        "test = pd.read_csv('drive/MyDrive/TermProject/test.csv')\n",
        "\n",
        "# submission example\n",
        "submission = pd.read_csv('drive/MyDrive/TermProject/sample_submission.csv')\n",
        "test_labels = pd.read_csv('drive/MyDrive/TermProject/test_labels.csv')\n",
        "\n",
        "print(\"train data length: \", len(train))\n",
        "print(\"test data length: \", len(test))"
      ]
    },
    {
      "cell_type": "code",
      "execution_count": 4,
      "id": "b2a9e7be-0be1-43d5-ad39-123e6dfe253f",
      "metadata": {
        "tags": [],
        "id": "b2a9e7be-0be1-43d5-ad39-123e6dfe253f",
        "outputId": "2510c105-255b-4967-ed88-f85a80d3e41e",
        "colab": {
          "base_uri": "https://localhost:8080/"
        }
      },
      "outputs": [
        {
          "output_type": "stream",
          "name": "stdout",
          "text": [
            "<class 'pandas.core.frame.DataFrame'>\n",
            "RangeIndex: 159571 entries, 0 to 159570\n",
            "Data columns (total 8 columns):\n",
            " #   Column         Non-Null Count   Dtype \n",
            "---  ------         --------------   ----- \n",
            " 0   id             159571 non-null  object\n",
            " 1   comment_text   159571 non-null  object\n",
            " 2   toxic          159571 non-null  int64 \n",
            " 3   severe_toxic   159571 non-null  int64 \n",
            " 4   obscene        159571 non-null  int64 \n",
            " 5   threat         159571 non-null  int64 \n",
            " 6   insult         159571 non-null  int64 \n",
            " 7   identity_hate  159571 non-null  int64 \n",
            "dtypes: int64(6), object(2)\n",
            "memory usage: 9.7+ MB\n"
          ]
        }
      ],
      "source": [
        "train.info()"
      ]
    },
    {
      "cell_type": "code",
      "execution_count": 5,
      "id": "048e2a84-2203-420b-b1b3-aee9ba8ff295",
      "metadata": {
        "tags": [],
        "id": "048e2a84-2203-420b-b1b3-aee9ba8ff295",
        "outputId": "60263696-6eab-44c2-9d77-cdee7beb9823",
        "colab": {
          "base_uri": "https://localhost:8080/"
        }
      },
      "outputs": [
        {
          "output_type": "execute_result",
          "data": {
            "text/plain": [
              "Index(['id', 'comment_text', 'toxic', 'severe_toxic', 'obscene', 'threat',\n",
              "       'insult', 'identity_hate'],\n",
              "      dtype='object')"
            ]
          },
          "metadata": {},
          "execution_count": 5
        }
      ],
      "source": [
        "train.columns"
      ]
    },
    {
      "cell_type": "code",
      "execution_count": 6,
      "id": "70c87eb7-936d-45b0-a08d-20fea2003ff3",
      "metadata": {
        "tags": [],
        "id": "70c87eb7-936d-45b0-a08d-20fea2003ff3"
      },
      "outputs": [],
      "source": [
        "target_cols = ['toxic', 'severe_toxic', 'obscene', 'threat','insult', 'identity_hate']"
      ]
    },
    {
      "cell_type": "code",
      "execution_count": 7,
      "id": "a2cad2ac-f108-4270-b248-8f1b6fce5639",
      "metadata": {
        "tags": [],
        "id": "a2cad2ac-f108-4270-b248-8f1b6fce5639",
        "outputId": "4f5618e7-3d5b-46c7-806f-03b8e94ad182",
        "colab": {
          "base_uri": "https://localhost:8080/"
        }
      },
      "outputs": [
        {
          "output_type": "stream",
          "name": "stdout",
          "text": [
            "id     comment_text  toxic  severe_toxic  obscene  threat  insult  identity_hate\n",
            "False  False         False  False         False    False   False   False            159571\n",
            "dtype: int64\n",
            "------------------------------\n",
            "id               0\n",
            "comment_text     0\n",
            "toxic            0\n",
            "severe_toxic     0\n",
            "obscene          0\n",
            "threat           0\n",
            "insult           0\n",
            "identity_hate    0\n",
            "dtype: int64\n"
          ]
        }
      ],
      "source": [
        "# Check missing value\n",
        "print(train.isnull().value_counts())\n",
        "print('-'*30)\n",
        "print(train.isnull().sum())"
      ]
    },
    {
      "cell_type": "code",
      "execution_count": 8,
      "id": "79c0e1ff-27bb-4427-a908-7cdfb89e2a3d",
      "metadata": {
        "tags": [],
        "id": "79c0e1ff-27bb-4427-a908-7cdfb89e2a3d",
        "outputId": "174cfdea-cbd9-412a-9049-b48419a14a0f",
        "colab": {
          "base_uri": "https://localhost:8080/"
        }
      },
      "outputs": [
        {
          "output_type": "stream",
          "name": "stdout",
          "text": [
            "size of train : 159571\n",
            "size of test : 153164\n",
            "--------------------\n",
            "toxic            15294\n",
            "obscene           8449\n",
            "insult            7877\n",
            "severe_toxic      1595\n",
            "identity_hate     1405\n",
            "threat             478\n",
            "dtype: int64\n"
          ]
        }
      ],
      "source": [
        "# data size\n",
        "print('size of train : {}'.format(len(train)))\n",
        "print('size of test : {}'.format(len(test)))\n",
        "print('-'*20)\n",
        "print(train[target_cols].sum().sort_values(ascending=False))"
      ]
    },
    {
      "cell_type": "markdown",
      "source": [
        "Word Cloud"
      ],
      "metadata": {
        "id": "a038xUmT8_Y8"
      },
      "id": "a038xUmT8_Y8"
    },
    {
      "cell_type": "code",
      "source": [
        "\n",
        "from wordcloud import WordCloud, STOPWORDS\n",
        "import matplotlib.pyplot as plt\n",
        "import pandas as pd\n",
        " \n",
        "\n",
        "df = train\n",
        " \n",
        "comment_words = ''\n",
        "stopwords = set(STOPWORDS)\n",
        " \n",
        "# iterate through the csv file\n",
        "for val in df.comment_text:\n",
        "     \n",
        "    # typecaste each val to string\n",
        "    val = str(val)\n",
        " \n",
        "    # split the value\n",
        "    tokens = val.split()\n",
        "     \n",
        "    # Converts each token into lowercase\n",
        "    for i in range(len(tokens)):\n",
        "        tokens[i] = tokens[i].lower()\n",
        "     \n",
        "    comment_words += \" \".join(tokens)+\" \"\n",
        " \n",
        "wordcloud = WordCloud(width = 800, height = 800,\n",
        "                background_color ='white',\n",
        "                stopwords = stopwords,\n",
        "                min_font_size = 10).generate(comment_words)\n",
        " \n",
        "# plot the WordCloud image                      \n",
        "plt.figure(figsize = (8, 8), facecolor = None)\n",
        "plt.imshow(wordcloud)\n",
        "plt.axis(\"off\")\n",
        "plt.tight_layout(pad = 0)\n",
        " \n",
        "plt.show()"
      ],
      "metadata": {
        "colab": {
          "base_uri": "https://localhost:8080/",
          "height": 607
        },
        "id": "jwFWImZp8_Fx",
        "outputId": "5a8ae9d1-4bc6-4938-f6a7-b165edc694e8"
      },
      "id": "jwFWImZp8_Fx",
      "execution_count": 31,
      "outputs": [
        {
          "output_type": "display_data",
          "data": {
            "text/plain": [
              "<Figure size 576x576 with 1 Axes>"
            ],
            "image/png": "[encoded data removed]"
          },
          "metadata": {}
        }
      ]
    },
    {
      "cell_type": "markdown",
      "id": "2146d473-cafa-4444-87b3-708caee23bd4",
      "metadata": {
        "id": "2146d473-cafa-4444-87b3-708caee23bd4"
      },
      "source": [
        "# EDA\n",
        "- Text Preprocessing\n",
        "- Removing stop words and abbreviations\n",
        "- Remove punctuations\n",
        "- Decide whether to remove repeating words"
      ]
    },
    {
      "cell_type": "code",
      "execution_count": 9,
      "id": "986a3e9e-4476-42d0-897d-f49a3ab18f59",
      "metadata": {
        "tags": [],
        "id": "986a3e9e-4476-42d0-897d-f49a3ab18f59",
        "outputId": "75e9e2f9-de92-43d2-fdf1-e846d4e5daad",
        "colab": {
          "base_uri": "https://localhost:8080/",
          "height": 204
        }
      },
      "outputs": [
        {
          "output_type": "execute_result",
          "data": {
            "text/plain": [
              "                 id                                       comment_text  toxic  \\\n",
              "0  0000997932d777bf  Explanation\\nWhy the edits made under my usern...      0   \n",
              "1  000103f0d9cfb60f  D'aww! He matches this background colour I'm s...      0   \n",
              "2  000113f07ec002fd  Hey man, I'm really not trying to edit war. It...      0   \n",
              "3  0001b41b1c6bb37e  \"\\nMore\\nI can't make any real suggestions on ...      0   \n",
              "4  0001d958c54c6e35  You, sir, are my hero. Any chance you remember...      0   \n",
              "\n",
              "   severe_toxic  obscene  threat  insult  identity_hate  sum_harmful  \n",
              "0             0        0       0       0              0            0  \n",
              "1             0        0       0       0              0            0  \n",
              "2             0        0       0       0              0            0  \n",
              "3             0        0       0       0              0            0  \n",
              "4             0        0       0       0              0            0  "
            ],
            "text/html": [
              "\n",
              "  <div id=\"df-9fe0457b-cc32-451e-9f77-03d222f378df\">\n",
              "    <div class=\"colab-df-container\">\n",
              "      <div>\n",
              "<style scoped>\n",
              "    .dataframe tbody tr th:only-of-type {\n",
              "        vertical-align: middle;\n",
              "    }\n",
              "\n",
              "    .dataframe tbody tr th {\n",
              "        vertical-align: top;\n",
              "    }\n",
              "\n",
              "    .dataframe thead th {\n",
              "        text-align: right;\n",
              "    }\n",
              "</style>\n",
              "<table border=\"1\" class=\"dataframe\">\n",
              "  <thead>\n",
              "    <tr style=\"text-align: right;\">\n",
              "      <th></th>\n",
              "      <th>id</th>\n",
              "      <th>comment_text</th>\n",
              "      <th>toxic</th>\n",
              "      <th>severe_toxic</th>\n",
              "      <th>obscene</th>\n",
              "      <th>threat</th>\n",
              "      <th>insult</th>\n",
              "      <th>identity_hate</th>\n",
              "      <th>sum_harmful</th>\n",
              "    </tr>\n",
              "  </thead>\n",
              "  <tbody>\n",
              "    <tr>\n",
              "      <th>0</th>\n",
              "      <td>0000997932d777bf</td>\n",
              "      <td>Explanation\\nWhy the edits made under my usern...</td>\n",
              "      <td>0</td>\n",
              "      <td>0</td>\n",
              "      <td>0</td>\n",
              "      <td>0</td>\n",
              "      <td>0</td>\n",
              "      <td>0</td>\n",
              "      <td>0</td>\n",
              "    </tr>\n",
              "    <tr>\n",
              "      <th>1</th>\n",
              "      <td>000103f0d9cfb60f</td>\n",
              "      <td>D'aww! He matches this background colour I'm s...</td>\n",
              "      <td>0</td>\n",
              "      <td>0</td>\n",
              "      <td>0</td>\n",
              "      <td>0</td>\n",
              "      <td>0</td>\n",
              "      <td>0</td>\n",
              "      <td>0</td>\n",
              "    </tr>\n",
              "    <tr>\n",
              "      <th>2</th>\n",
              "      <td>000113f07ec002fd</td>\n",
              "      <td>Hey man, I'm really not trying to edit war. It...</td>\n",
              "      <td>0</td>\n",
              "      <td>0</td>\n",
              "      <td>0</td>\n",
              "      <td>0</td>\n",
              "      <td>0</td>\n",
              "      <td>0</td>\n",
              "      <td>0</td>\n",
              "    </tr>\n",
              "    <tr>\n",
              "      <th>3</th>\n",
              "      <td>0001b41b1c6bb37e</td>\n",
              "      <td>\"\\nMore\\nI can't make any real suggestions on ...</td>\n",
              "      <td>0</td>\n",
              "      <td>0</td>\n",
              "      <td>0</td>\n",
              "      <td>0</td>\n",
              "      <td>0</td>\n",
              "      <td>0</td>\n",
              "      <td>0</td>\n",
              "    </tr>\n",
              "    <tr>\n",
              "      <th>4</th>\n",
              "      <td>0001d958c54c6e35</td>\n",
              "      <td>You, sir, are my hero. Any chance you remember...</td>\n",
              "      <td>0</td>\n",
              "      <td>0</td>\n",
              "      <td>0</td>\n",
              "      <td>0</td>\n",
              "      <td>0</td>\n",
              "      <td>0</td>\n",
              "      <td>0</td>\n",
              "    </tr>\n",
              "  </tbody>\n",
              "</table>\n",
              "</div>\n",
              "      <button class=\"colab-df-convert\" onclick=\"convertToInteractive('df-9fe0457b-cc32-451e-9f77-03d222f378df')\"\n",
              "              title=\"Convert this dataframe to an interactive table.\"\n",
              "              style=\"display:none;\">\n",
              "        \n",
              "  <svg xmlns=\"http://www.w3.org/2000/svg\" height=\"24px\"viewBox=\"0 0 24 24\"\n",
              "       width=\"24px\">\n",
              "    <path d=\"M0 0h24v24H0V0z\" fill=\"none\"/>\n",
              "    <path d=\"M18.56 5.44l.94 2.06.94-2.06 2.06-.94-2.06-.94-.94-2.06-.94 2.06-2.06.94zm-11 1L8.5 8.5l.94-2.06 2.06-.94-2.06-.94L8.5 2.5l-.94 2.06-2.06.94zm10 10l.94 2.06.94-2.06 2.06-.94-2.06-.94-.94-2.06-.94 2.06-2.06.94z\"/><path d=\"M17.41 7.96l-1.37-1.37c-.4-.4-.92-.59-1.43-.59-.52 0-1.04.2-1.43.59L10.3 9.45l-7.72 7.72c-.78.78-.78 2.05 0 2.83L4 21.41c.39.39.9.59 1.41.59.51 0 1.02-.2 1.41-.59l7.78-7.78 2.81-2.81c.8-.78.8-2.07 0-2.86zM5.41 20L4 18.59l7.72-7.72 1.47 1.35L5.41 20z\"/>\n",
              "  </svg>\n",
              "      </button>\n",
              "      \n",
              "  <style>\n",
              "    .colab-df-container {\n",
              "      display:flex;\n",
              "      flex-wrap:wrap;\n",
              "      gap: 12px;\n",
              "    }\n",
              "\n",
              "    .colab-df-convert {\n",
              "      background-color: #E8F0FE;\n",
              "      border: none;\n",
              "      border-radius: 50%;\n",
              "      cursor: pointer;\n",
              "      display: none;\n",
              "      fill: #1967D2;\n",
              "      height: 32px;\n",
              "      padding: 0 0 0 0;\n",
              "      width: 32px;\n",
              "    }\n",
              "\n",
              "    .colab-df-convert:hover {\n",
              "      background-color: #E2EBFA;\n",
              "      box-shadow: 0px 1px 2px rgba(60, 64, 67, 0.3), 0px 1px 3px 1px rgba(60, 64, 67, 0.15);\n",
              "      fill: #174EA6;\n",
              "    }\n",
              "\n",
              "    [theme=dark] .colab-df-convert {\n",
              "      background-color: #3B4455;\n",
              "      fill: #D2E3FC;\n",
              "    }\n",
              "\n",
              "    [theme=dark] .colab-df-convert:hover {\n",
              "      background-color: #434B5C;\n",
              "      box-shadow: 0px 1px 3px 1px rgba(0, 0, 0, 0.15);\n",
              "      filter: drop-shadow(0px 1px 2px rgba(0, 0, 0, 0.3));\n",
              "      fill: #FFFFFF;\n",
              "    }\n",
              "  </style>\n",
              "\n",
              "      <script>\n",
              "        const buttonEl =\n",
              "          document.querySelector('#df-9fe0457b-cc32-451e-9f77-03d222f378df button.colab-df-convert');\n",
              "        buttonEl.style.display =\n",
              "          google.colab.kernel.accessAllowed ? 'block' : 'none';\n",
              "\n",
              "        async function convertToInteractive(key) {\n",
              "          const element = document.querySelector('#df-9fe0457b-cc32-451e-9f77-03d222f378df');\n",
              "          const dataTable =\n",
              "            await google.colab.kernel.invokeFunction('convertToInteractive',\n",
              "                                                     [key], {});\n",
              "          if (!dataTable) return;\n",
              "\n",
              "          const docLinkHtml = 'Like what you see? Visit the ' +\n",
              "            '<a target=\"_blank\" href=https://colab.research.google.com/notebooks/data_table.ipynb>data table notebook</a>'\n",
              "            + ' to learn more about interactive tables.';\n",
              "          element.innerHTML = '';\n",
              "          dataTable['output_type'] = 'display_data';\n",
              "          await google.colab.output.renderOutput(dataTable, element);\n",
              "          const docLink = document.createElement('div');\n",
              "          docLink.innerHTML = docLinkHtml;\n",
              "          element.appendChild(docLink);\n",
              "        }\n",
              "      </script>\n",
              "    </div>\n",
              "  </div>\n",
              "  "
            ]
          },
          "metadata": {},
          "execution_count": 9
        }
      ],
      "source": [
        "\n",
        "train['sum_harmful'] = 0\n",
        "for col in target_cols:\n",
        "    train['sum_harmful'] += train[col]\n",
        "train.head()"
      ]
    },
    {
      "cell_type": "code",
      "execution_count": 10,
      "id": "0b93f2cf-1704-49fd-b9c4-63d11b11c973",
      "metadata": {
        "tags": [],
        "id": "0b93f2cf-1704-49fd-b9c4-63d11b11c973"
      },
      "outputs": [],
      "source": [
        "# Before preprocessing text, check text length distribution\n",
        "train['len_of_text'] = train['comment_text'].apply(len)"
      ]
    },
    {
      "cell_type": "code",
      "execution_count": 11,
      "id": "44af289e-2ce5-4485-b22b-5a810b6fec16",
      "metadata": {
        "tags": [],
        "id": "44af289e-2ce5-4485-b22b-5a810b6fec16",
        "outputId": "99131d99-b2c2-4926-be0d-3f8808042833",
        "colab": {
          "base_uri": "https://localhost:8080/",
          "height": 280
        }
      },
      "outputs": [
        {
          "output_type": "display_data",
          "data": {
            "text/plain": [
              "<Figure size 432x288 with 1 Axes>"
            ],
            "image/png": "[encoded data removed]"
          },
          "metadata": {}
        }
      ],
      "source": [
        "# Visualize text length distribution\n",
        "sns.set_style(\"darkgrid\")\n",
        "sns.distplot(train['len_of_text'],kde=True)\n",
        "plt.show()"
      ]
    },
    {
      "cell_type": "code",
      "execution_count": 12,
      "id": "4540443a-c062-4d62-985c-a00133232682",
      "metadata": {
        "tags": [],
        "id": "4540443a-c062-4d62-985c-a00133232682",
        "outputId": "96146384-8ace-4466-c984-cfb639a0c9c5",
        "colab": {
          "base_uri": "https://localhost:8080/",
          "height": 280
        }
      },
      "outputs": [
        {
          "output_type": "display_data",
          "data": {
            "text/plain": [
              "<Figure size 432x288 with 1 Axes>"
            ],
            "image/png": "[encoded data removed]"
          },
          "metadata": {}
        }
      ],
      "source": [
        "# Visualizing text lengths greater than 1000\n",
        "x = train.loc[train['len_of_text'] > 1000,'len_of_text']\n",
        "sns.distplot(x,kde=True)\n",
        "plt.show()"
      ]
    },
    {
      "cell_type": "code",
      "execution_count": 13,
      "id": "9d51adb7-4669-49c7-9355-2cc2298e80f4",
      "metadata": {
        "tags": [],
        "id": "9d51adb7-4669-49c7-9355-2cc2298e80f4",
        "outputId": "5546fb31-571b-4707-fabb-a843c8388c53",
        "colab": {
          "base_uri": "https://localhost:8080/",
          "height": 433
        }
      },
      "outputs": [
        {
          "output_type": "stream",
          "name": "stdout",
          "text": [
            "0    12521\n",
            "1      419\n",
            "3      146\n",
            "2      128\n",
            "4      121\n",
            "5       23\n",
            "6        2\n",
            "Name: sum_harmful, dtype: int64\n"
          ]
        },
        {
          "output_type": "display_data",
          "data": {
            "text/plain": [
              "<AxesSubplot:xlabel='sum_harmful', ylabel='count'>"
            ]
          },
          "metadata": {}
        },
        {
          "output_type": "display_data",
          "data": {
            "text/plain": [
              "<Figure size 432x288 with 1 Axes>"
            ],
            "image/png": "[encoded data removed]"
          },
          "metadata": {}
        }
      ],
      "source": [
        "# Sum of the number of target_cols of data greater than 1000 classified as 1\n",
        "print(train.loc[train['len_of_text'] > 1000,'sum_harmful'].value_counts())\n",
        "\n",
        "plt.yscale('log')\n",
        "display(sns.countplot(train.loc[train['len_of_text'] > 1000,'sum_harmful']))"
      ]
    },
    {
      "cell_type": "code",
      "execution_count": 14,
      "id": "d772d9ae-acc1-4072-a297-c704bad70975",
      "metadata": {
        "tags": [],
        "id": "d772d9ae-acc1-4072-a297-c704bad70975",
        "outputId": "3dbb29c7-26f2-4e24-e160-8c1b23cfc78c",
        "colab": {
          "base_uri": "https://localhost:8080/",
          "height": 280
        }
      },
      "outputs": [
        {
          "output_type": "display_data",
          "data": {
            "text/plain": [
              "<Figure size 432x288 with 1 Axes>"
            ],
            "image/png": "[encoded data removed]"
          },
          "metadata": {}
        }
      ],
      "source": [
        "# Above 1000 looks similar to the existing data distribution - > does not handle outliers\n",
        "plt.yscale('log')\n",
        "sns.countplot(train['sum_harmful'])\n",
        "plt.show()"
      ]
    },
    {
      "cell_type": "code",
      "execution_count": 15,
      "id": "f8607804-73af-4bc4-b829-96885f783efd",
      "metadata": {
        "tags": [],
        "id": "f8607804-73af-4bc4-b829-96885f783efd",
        "outputId": "871e84fa-7cc1-469b-c396-ead8ab6e0368",
        "colab": {
          "base_uri": "https://localhost:8080/"
        }
      },
      "outputs": [
        {
          "output_type": "execute_result",
          "data": {
            "text/plain": [
              "0    143346\n",
              "1      6360\n",
              "3      4209\n",
              "2      3480\n",
              "4      1760\n",
              "5       385\n",
              "6        31\n",
              "Name: sum_harmful, dtype: int64"
            ]
          },
          "metadata": {},
          "execution_count": 15
        }
      ],
      "source": [
        "train['sum_harmful'].value_counts()"
      ]
    },
    {
      "cell_type": "code",
      "execution_count": 16,
      "id": "144a84a8-ef91-4470-9aec-0116048dc7d7",
      "metadata": {
        "tags": [],
        "id": "144a84a8-ef91-4470-9aec-0116048dc7d7",
        "outputId": "628e32a2-4d3b-4a63-9644-c6d4ab1e2c5d",
        "colab": {
          "base_uri": "https://localhost:8080/",
          "height": 297
        }
      },
      "outputs": [
        {
          "output_type": "execute_result",
          "data": {
            "text/plain": [
              "               toxic   severe_toxic        obscene         threat  \\\n",
              "count  159571.000000  159571.000000  159571.000000  159571.000000   \n",
              "mean        0.095844       0.009996       0.052948       0.002996   \n",
              "std         0.294379       0.099477       0.223931       0.054650   \n",
              "min         0.000000       0.000000       0.000000       0.000000   \n",
              "25%         0.000000       0.000000       0.000000       0.000000   \n",
              "50%         0.000000       0.000000       0.000000       0.000000   \n",
              "75%         0.000000       0.000000       0.000000       0.000000   \n",
              "max         1.000000       1.000000       1.000000       1.000000   \n",
              "\n",
              "              insult  identity_hate    sum_harmful    len_of_text  \n",
              "count  159571.000000  159571.000000  159571.000000  159571.000000  \n",
              "mean        0.049364       0.008805       0.219952     394.073221  \n",
              "std         0.216627       0.093420       0.748260     590.720282  \n",
              "min         0.000000       0.000000       0.000000       6.000000  \n",
              "25%         0.000000       0.000000       0.000000      96.000000  \n",
              "50%         0.000000       0.000000       0.000000     205.000000  \n",
              "75%         0.000000       0.000000       0.000000     435.000000  \n",
              "max         1.000000       1.000000       6.000000    5000.000000  "
            ],
            "text/html": [
              "\n",
              "  <div id=\"df-0c8fa99d-8716-4be1-bd41-9dbafe2288f6\">\n",
              "    <div class=\"colab-df-container\">\n",
              "      <div>\n",
              "<style scoped>\n",
              "    .dataframe tbody tr th:only-of-type {\n",
              "        vertical-align: middle;\n",
              "    }\n",
              "\n",
              "    .dataframe tbody tr th {\n",
              "        vertical-align: top;\n",
              "    }\n",
              "\n",
              "    .dataframe thead th {\n",
              "        text-align: right;\n",
              "    }\n",
              "</style>\n",
              "<table border=\"1\" class=\"dataframe\">\n",
              "  <thead>\n",
              "    <tr style=\"text-align: right;\">\n",
              "      <th></th>\n",
              "      <th>toxic</th>\n",
              "      <th>severe_toxic</th>\n",
              "      <th>obscene</th>\n",
              "      <th>threat</th>\n",
              "      <th>insult</th>\n",
              "      <th>identity_hate</th>\n",
              "      <th>sum_harmful</th>\n",
              "      <th>len_of_text</th>\n",
              "    </tr>\n",
              "  </thead>\n",
              "  <tbody>\n",
              "    <tr>\n",
              "      <th>count</th>\n",
              "      <td>159571.000000</td>\n",
              "      <td>159571.000000</td>\n",
              "      <td>159571.000000</td>\n",
              "      <td>159571.000000</td>\n",
              "      <td>159571.000000</td>\n",
              "      <td>159571.000000</td>\n",
              "      <td>159571.000000</td>\n",
              "      <td>159571.000000</td>\n",
              "    </tr>\n",
              "    <tr>\n",
              "      <th>mean</th>\n",
              "      <td>0.095844</td>\n",
              "      <td>0.009996</td>\n",
              "      <td>0.052948</td>\n",
              "      <td>0.002996</td>\n",
              "      <td>0.049364</td>\n",
              "      <td>0.008805</td>\n",
              "      <td>0.219952</td>\n",
              "      <td>394.073221</td>\n",
              "    </tr>\n",
              "    <tr>\n",
              "      <th>std</th>\n",
              "      <td>0.294379</td>\n",
              "      <td>0.099477</td>\n",
              "      <td>0.223931</td>\n",
              "      <td>0.054650</td>\n",
              "      <td>0.216627</td>\n",
              "      <td>0.093420</td>\n",
              "      <td>0.748260</td>\n",
              "      <td>590.720282</td>\n",
              "    </tr>\n",
              "    <tr>\n",
              "      <th>min</th>\n",
              "      <td>0.000000</td>\n",
              "      <td>0.000000</td>\n",
              "      <td>0.000000</td>\n",
              "      <td>0.000000</td>\n",
              "      <td>0.000000</td>\n",
              "      <td>0.000000</td>\n",
              "      <td>0.000000</td>\n",
              "      <td>6.000000</td>\n",
              "    </tr>\n",
              "    <tr>\n",
              "      <th>25%</th>\n",
              "      <td>0.000000</td>\n",
              "      <td>0.000000</td>\n",
              "      <td>0.000000</td>\n",
              "      <td>0.000000</td>\n",
              "      <td>0.000000</td>\n",
              "      <td>0.000000</td>\n",
              "      <td>0.000000</td>\n",
              "      <td>96.000000</td>\n",
              "    </tr>\n",
              "    <tr>\n",
              "      <th>50%</th>\n",
              "      <td>0.000000</td>\n",
              "      <td>0.000000</td>\n",
              "      <td>0.000000</td>\n",
              "      <td>0.000000</td>\n",
              "      <td>0.000000</td>\n",
              "      <td>0.000000</td>\n",
              "      <td>0.000000</td>\n",
              "      <td>205.000000</td>\n",
              "    </tr>\n",
              "    <tr>\n",
              "      <th>75%</th>\n",
              "      <td>0.000000</td>\n",
              "      <td>0.000000</td>\n",
              "      <td>0.000000</td>\n",
              "      <td>0.000000</td>\n",
              "      <td>0.000000</td>\n",
              "      <td>0.000000</td>\n",
              "      <td>0.000000</td>\n",
              "      <td>435.000000</td>\n",
              "    </tr>\n",
              "    <tr>\n",
              "      <th>max</th>\n",
              "      <td>1.000000</td>\n",
              "      <td>1.000000</td>\n",
              "      <td>1.000000</td>\n",
              "      <td>1.000000</td>\n",
              "      <td>1.000000</td>\n",
              "      <td>1.000000</td>\n",
              "      <td>6.000000</td>\n",
              "      <td>5000.000000</td>\n",
              "    </tr>\n",
              "  </tbody>\n",
              "</table>\n",
              "</div>\n",
              "      <button class=\"colab-df-convert\" onclick=\"convertToInteractive('df-0c8fa99d-8716-4be1-bd41-9dbafe2288f6')\"\n",
              "              title=\"Convert this dataframe to an interactive table.\"\n",
              "              style=\"display:none;\">\n",
              "        \n",
              "  <svg xmlns=\"http://www.w3.org/2000/svg\" height=\"24px\"viewBox=\"0 0 24 24\"\n",
              "       width=\"24px\">\n",
              "    <path d=\"M0 0h24v24H0V0z\" fill=\"none\"/>\n",
              "    <path d=\"M18.56 5.44l.94 2.06.94-2.06 2.06-.94-2.06-.94-.94-2.06-.94 2.06-2.06.94zm-11 1L8.5 8.5l.94-2.06 2.06-.94-2.06-.94L8.5 2.5l-.94 2.06-2.06.94zm10 10l.94 2.06.94-2.06 2.06-.94-2.06-.94-.94-2.06-.94 2.06-2.06.94z\"/><path d=\"M17.41 7.96l-1.37-1.37c-.4-.4-.92-.59-1.43-.59-.52 0-1.04.2-1.43.59L10.3 9.45l-7.72 7.72c-.78.78-.78 2.05 0 2.83L4 21.41c.39.39.9.59 1.41.59.51 0 1.02-.2 1.41-.59l7.78-7.78 2.81-2.81c.8-.78.8-2.07 0-2.86zM5.41 20L4 18.59l7.72-7.72 1.47 1.35L5.41 20z\"/>\n",
              "  </svg>\n",
              "      </button>\n",
              "      \n",
              "  <style>\n",
              "    .colab-df-container {\n",
              "      display:flex;\n",
              "      flex-wrap:wrap;\n",
              "      gap: 12px;\n",
              "    }\n",
              "\n",
              "    .colab-df-convert {\n",
              "      background-color: #E8F0FE;\n",
              "      border: none;\n",
              "      border-radius: 50%;\n",
              "      cursor: pointer;\n",
              "      display: none;\n",
              "      fill: #1967D2;\n",
              "      height: 32px;\n",
              "      padding: 0 0 0 0;\n",
              "      width: 32px;\n",
              "    }\n",
              "\n",
              "    .colab-df-convert:hover {\n",
              "      background-color: #E2EBFA;\n",
              "      box-shadow: 0px 1px 2px rgba(60, 64, 67, 0.3), 0px 1px 3px 1px rgba(60, 64, 67, 0.15);\n",
              "      fill: #174EA6;\n",
              "    }\n",
              "\n",
              "    [theme=dark] .colab-df-convert {\n",
              "      background-color: #3B4455;\n",
              "      fill: #D2E3FC;\n",
              "    }\n",
              "\n",
              "    [theme=dark] .colab-df-convert:hover {\n",
              "      background-color: #434B5C;\n",
              "      box-shadow: 0px 1px 3px 1px rgba(0, 0, 0, 0.15);\n",
              "      filter: drop-shadow(0px 1px 2px rgba(0, 0, 0, 0.3));\n",
              "      fill: #FFFFFF;\n",
              "    }\n",
              "  </style>\n",
              "\n",
              "      <script>\n",
              "        const buttonEl =\n",
              "          document.querySelector('#df-0c8fa99d-8716-4be1-bd41-9dbafe2288f6 button.colab-df-convert');\n",
              "        buttonEl.style.display =\n",
              "          google.colab.kernel.accessAllowed ? 'block' : 'none';\n",
              "\n",
              "        async function convertToInteractive(key) {\n",
              "          const element = document.querySelector('#df-0c8fa99d-8716-4be1-bd41-9dbafe2288f6');\n",
              "          const dataTable =\n",
              "            await google.colab.kernel.invokeFunction('convertToInteractive',\n",
              "                                                     [key], {});\n",
              "          if (!dataTable) return;\n",
              "\n",
              "          const docLinkHtml = 'Like what you see? Visit the ' +\n",
              "            '<a target=\"_blank\" href=https://colab.research.google.com/notebooks/data_table.ipynb>data table notebook</a>'\n",
              "            + ' to learn more about interactive tables.';\n",
              "          element.innerHTML = '';\n",
              "          dataTable['output_type'] = 'display_data';\n",
              "          await google.colab.output.renderOutput(dataTable, element);\n",
              "          const docLink = document.createElement('div');\n",
              "          docLink.innerHTML = docLinkHtml;\n",
              "          element.appendChild(docLink);\n",
              "        }\n",
              "      </script>\n",
              "    </div>\n",
              "  </div>\n",
              "  "
            ]
          },
          "metadata": {},
          "execution_count": 16
        }
      ],
      "source": [
        "train.describe()"
      ]
    },
    {
      "cell_type": "markdown",
      "id": "7b1f3107-4d1b-4b11-a3e6-cec651687a76",
      "metadata": {
        "id": "7b1f3107-4d1b-4b11-a3e6-cec651687a76"
      },
      "source": [
        "# 1. Text Preprocessing - Replace abbreviation"
      ]
    },
    {
      "cell_type": "code",
      "execution_count": 17,
      "id": "9778787c-57cd-45c7-9d2b-af84b81a0dd2",
      "metadata": {
        "tags": [],
        "id": "9778787c-57cd-45c7-9d2b-af84b81a0dd2"
      },
      "outputs": [],
      "source": [
        "# is, has, have 등 동사 줄임 처리\n",
        "def clean_text(text):\n",
        "    text = text.lower()\n",
        "    text = re.sub(r\"what's\", \"what is \", text)\n",
        "    text = re.sub(r\"\\'s\", \" \", text)\n",
        "    text = re.sub(r\"\\'ve\", \" have \", text)\n",
        "    text = re.sub(r\"can't\", \"cannot \", text)\n",
        "    text = re.sub(r\"n't\", \" not \", text)\n",
        "    text = re.sub(r\"i'm\", \"i am \", text)\n",
        "    text = re.sub(r\"\\'re\", \" are \", text)\n",
        "    text = re.sub(r\"\\'d\", \" would \", text)\n",
        "    text = re.sub(r\"\\'ll\", \" will \", text)\n",
        "    text = re.sub(r\"\\'scuse\", \" excuse \", text)\n",
        "    text = re.sub('\\W', ' ', text)\n",
        "    text = re.sub('\\s+', ' ', text)\n",
        "    text = text.strip(' ')\n",
        "    return text"
      ]
    },
    {
      "cell_type": "code",
      "execution_count": 18,
      "id": "840422d7-eaa1-4ce7-8121-37db728a865c",
      "metadata": {
        "tags": [],
        "id": "840422d7-eaa1-4ce7-8121-37db728a865c",
        "outputId": "52661576-0364-4b60-e8f2-23a271ba2602",
        "colab": {
          "base_uri": "https://localhost:8080/",
          "height": 288
        }
      },
      "outputs": [
        {
          "output_type": "execute_result",
          "data": {
            "text/plain": [
              "                 id                                       comment_text  toxic  \\\n",
              "0  0000997932d777bf  Explanation\\nWhy the edits made under my usern...      0   \n",
              "1  000103f0d9cfb60f  D'aww! He matches this background colour I'm s...      0   \n",
              "2  000113f07ec002fd  Hey man, I'm really not trying to edit war. It...      0   \n",
              "\n",
              "   severe_toxic  obscene  threat  insult  identity_hate  sum_harmful  \\\n",
              "0             0        0       0       0              0            0   \n",
              "1             0        0       0       0              0            0   \n",
              "2             0        0       0       0              0            0   \n",
              "\n",
              "   len_of_text                                    preprocess_text  \n",
              "0          264  explanation why the edits made under my userna...  \n",
              "1          112  d aww he matches this background colour i am s...  \n",
              "2          233  hey man i am really not trying to edit war it ...  "
            ],
            "text/html": [
              "\n",
              "  <div id=\"df-8f1e232e-15fa-4e11-b035-ed55691aa338\">\n",
              "    <div class=\"colab-df-container\">\n",
              "      <div>\n",
              "<style scoped>\n",
              "    .dataframe tbody tr th:only-of-type {\n",
              "        vertical-align: middle;\n",
              "    }\n",
              "\n",
              "    .dataframe tbody tr th {\n",
              "        vertical-align: top;\n",
              "    }\n",
              "\n",
              "    .dataframe thead th {\n",
              "        text-align: right;\n",
              "    }\n",
              "</style>\n",
              "<table border=\"1\" class=\"dataframe\">\n",
              "  <thead>\n",
              "    <tr style=\"text-align: right;\">\n",
              "      <th></th>\n",
              "      <th>id</th>\n",
              "      <th>comment_text</th>\n",
              "      <th>toxic</th>\n",
              "      <th>severe_toxic</th>\n",
              "      <th>obscene</th>\n",
              "      <th>threat</th>\n",
              "      <th>insult</th>\n",
              "      <th>identity_hate</th>\n",
              "      <th>sum_harmful</th>\n",
              "      <th>len_of_text</th>\n",
              "      <th>preprocess_text</th>\n",
              "    </tr>\n",
              "  </thead>\n",
              "  <tbody>\n",
              "    <tr>\n",
              "      <th>0</th>\n",
              "      <td>0000997932d777bf</td>\n",
              "      <td>Explanation\\nWhy the edits made under my usern...</td>\n",
              "      <td>0</td>\n",
              "      <td>0</td>\n",
              "      <td>0</td>\n",
              "      <td>0</td>\n",
              "      <td>0</td>\n",
              "      <td>0</td>\n",
              "      <td>0</td>\n",
              "      <td>264</td>\n",
              "      <td>explanation why the edits made under my userna...</td>\n",
              "    </tr>\n",
              "    <tr>\n",
              "      <th>1</th>\n",
              "      <td>000103f0d9cfb60f</td>\n",
              "      <td>D'aww! He matches this background colour I'm s...</td>\n",
              "      <td>0</td>\n",
              "      <td>0</td>\n",
              "      <td>0</td>\n",
              "      <td>0</td>\n",
              "      <td>0</td>\n",
              "      <td>0</td>\n",
              "      <td>0</td>\n",
              "      <td>112</td>\n",
              "      <td>d aww he matches this background colour i am s...</td>\n",
              "    </tr>\n",
              "    <tr>\n",
              "      <th>2</th>\n",
              "      <td>000113f07ec002fd</td>\n",
              "      <td>Hey man, I'm really not trying to edit war. It...</td>\n",
              "      <td>0</td>\n",
              "      <td>0</td>\n",
              "      <td>0</td>\n",
              "      <td>0</td>\n",
              "      <td>0</td>\n",
              "      <td>0</td>\n",
              "      <td>0</td>\n",
              "      <td>233</td>\n",
              "      <td>hey man i am really not trying to edit war it ...</td>\n",
              "    </tr>\n",
              "  </tbody>\n",
              "</table>\n",
              "</div>\n",
              "      <button class=\"colab-df-convert\" onclick=\"convertToInteractive('df-8f1e232e-15fa-4e11-b035-ed55691aa338')\"\n",
              "              title=\"Convert this dataframe to an interactive table.\"\n",
              "              style=\"display:none;\">\n",
              "        \n",
              "  <svg xmlns=\"http://www.w3.org/2000/svg\" height=\"24px\"viewBox=\"0 0 24 24\"\n",
              "       width=\"24px\">\n",
              "    <path d=\"M0 0h24v24H0V0z\" fill=\"none\"/>\n",
              "    <path d=\"M18.56 5.44l.94 2.06.94-2.06 2.06-.94-2.06-.94-.94-2.06-.94 2.06-2.06.94zm-11 1L8.5 8.5l.94-2.06 2.06-.94-2.06-.94L8.5 2.5l-.94 2.06-2.06.94zm10 10l.94 2.06.94-2.06 2.06-.94-2.06-.94-.94-2.06-.94 2.06-2.06.94z\"/><path d=\"M17.41 7.96l-1.37-1.37c-.4-.4-.92-.59-1.43-.59-.52 0-1.04.2-1.43.59L10.3 9.45l-7.72 7.72c-.78.78-.78 2.05 0 2.83L4 21.41c.39.39.9.59 1.41.59.51 0 1.02-.2 1.41-.59l7.78-7.78 2.81-2.81c.8-.78.8-2.07 0-2.86zM5.41 20L4 18.59l7.72-7.72 1.47 1.35L5.41 20z\"/>\n",
              "  </svg>\n",
              "      </button>\n",
              "      \n",
              "  <style>\n",
              "    .colab-df-container {\n",
              "      display:flex;\n",
              "      flex-wrap:wrap;\n",
              "      gap: 12px;\n",
              "    }\n",
              "\n",
              "    .colab-df-convert {\n",
              "      background-color: #E8F0FE;\n",
              "      border: none;\n",
              "      border-radius: 50%;\n",
              "      cursor: pointer;\n",
              "      display: none;\n",
              "      fill: #1967D2;\n",
              "      height: 32px;\n",
              "      padding: 0 0 0 0;\n",
              "      width: 32px;\n",
              "    }\n",
              "\n",
              "    .colab-df-convert:hover {\n",
              "      background-color: #E2EBFA;\n",
              "      box-shadow: 0px 1px 2px rgba(60, 64, 67, 0.3), 0px 1px 3px 1px rgba(60, 64, 67, 0.15);\n",
              "      fill: #174EA6;\n",
              "    }\n",
              "\n",
              "    [theme=dark] .colab-df-convert {\n",
              "      background-color: #3B4455;\n",
              "      fill: #D2E3FC;\n",
              "    }\n",
              "\n",
              "    [theme=dark] .colab-df-convert:hover {\n",
              "      background-color: #434B5C;\n",
              "      box-shadow: 0px 1px 3px 1px rgba(0, 0, 0, 0.15);\n",
              "      filter: drop-shadow(0px 1px 2px rgba(0, 0, 0, 0.3));\n",
              "      fill: #FFFFFF;\n",
              "    }\n",
              "  </style>\n",
              "\n",
              "      <script>\n",
              "        const buttonEl =\n",
              "          document.querySelector('#df-8f1e232e-15fa-4e11-b035-ed55691aa338 button.colab-df-convert');\n",
              "        buttonEl.style.display =\n",
              "          google.colab.kernel.accessAllowed ? 'block' : 'none';\n",
              "\n",
              "        async function convertToInteractive(key) {\n",
              "          const element = document.querySelector('#df-8f1e232e-15fa-4e11-b035-ed55691aa338');\n",
              "          const dataTable =\n",
              "            await google.colab.kernel.invokeFunction('convertToInteractive',\n",
              "                                                     [key], {});\n",
              "          if (!dataTable) return;\n",
              "\n",
              "          const docLinkHtml = 'Like what you see? Visit the ' +\n",
              "            '<a target=\"_blank\" href=https://colab.research.google.com/notebooks/data_table.ipynb>data table notebook</a>'\n",
              "            + ' to learn more about interactive tables.';\n",
              "          element.innerHTML = '';\n",
              "          dataTable['output_type'] = 'display_data';\n",
              "          await google.colab.output.renderOutput(dataTable, element);\n",
              "          const docLink = document.createElement('div');\n",
              "          docLink.innerHTML = docLinkHtml;\n",
              "          element.appendChild(docLink);\n",
              "        }\n",
              "      </script>\n",
              "    </div>\n",
              "  </div>\n",
              "  "
            ]
          },
          "metadata": {},
          "execution_count": 18
        }
      ],
      "source": [
        "train['preprocess_text'] = train['comment_text'].apply(clean_text)\n",
        "train.head(3)"
      ]
    },
    {
      "cell_type": "markdown",
      "id": "30d7c9d0-9ada-408d-83a2-ca2057cdace2",
      "metadata": {
        "id": "30d7c9d0-9ada-408d-83a2-ca2057cdace2"
      },
      "source": [
        "# 2. Text Preprocessing - Stop Words Removed\n",
        "- Create a stop word list using Countvectorizer\n",
        "- Remove stop words - use the stopwords provided by NLTK together with the list of stop words created above"
      ]
    },
    {
      "cell_type": "code",
      "execution_count": 19,
      "id": "bddf7b41-c480-44c9-ac69-84b272190232",
      "metadata": {
        "tags": [],
        "id": "bddf7b41-c480-44c9-ac69-84b272190232",
        "outputId": "001b981b-933b-4550-9d88-8bf246886a93",
        "colab": {
          "base_uri": "https://localhost:8080/",
          "height": 359
        }
      },
      "outputs": [
        {
          "output_type": "execute_result",
          "data": {
            "text/plain": [
              "   word    freq\n",
              "0   the  496796\n",
              "1    to  297408\n",
              "2    of  224547\n",
              "3   and  224092\n",
              "4   you  218308\n",
              "5    is  176405\n",
              "6  that  160867\n",
              "7    it  148644\n",
              "8    in  145477\n",
              "9   for  102723"
            ],
            "text/html": [
              "\n",
              "  <div id=\"df-01f9887d-6451-404e-8a91-7f09609630d9\">\n",
              "    <div class=\"colab-df-container\">\n",
              "      <div>\n",
              "<style scoped>\n",
              "    .dataframe tbody tr th:only-of-type {\n",
              "        vertical-align: middle;\n",
              "    }\n",
              "\n",
              "    .dataframe tbody tr th {\n",
              "        vertical-align: top;\n",
              "    }\n",
              "\n",
              "    .dataframe thead th {\n",
              "        text-align: right;\n",
              "    }\n",
              "</style>\n",
              "<table border=\"1\" class=\"dataframe\">\n",
              "  <thead>\n",
              "    <tr style=\"text-align: right;\">\n",
              "      <th></th>\n",
              "      <th>word</th>\n",
              "      <th>freq</th>\n",
              "    </tr>\n",
              "  </thead>\n",
              "  <tbody>\n",
              "    <tr>\n",
              "      <th>0</th>\n",
              "      <td>the</td>\n",
              "      <td>496796</td>\n",
              "    </tr>\n",
              "    <tr>\n",
              "      <th>1</th>\n",
              "      <td>to</td>\n",
              "      <td>297408</td>\n",
              "    </tr>\n",
              "    <tr>\n",
              "      <th>2</th>\n",
              "      <td>of</td>\n",
              "      <td>224547</td>\n",
              "    </tr>\n",
              "    <tr>\n",
              "      <th>3</th>\n",
              "      <td>and</td>\n",
              "      <td>224092</td>\n",
              "    </tr>\n",
              "    <tr>\n",
              "      <th>4</th>\n",
              "      <td>you</td>\n",
              "      <td>218308</td>\n",
              "    </tr>\n",
              "    <tr>\n",
              "      <th>5</th>\n",
              "      <td>is</td>\n",
              "      <td>176405</td>\n",
              "    </tr>\n",
              "    <tr>\n",
              "      <th>6</th>\n",
              "      <td>that</td>\n",
              "      <td>160867</td>\n",
              "    </tr>\n",
              "    <tr>\n",
              "      <th>7</th>\n",
              "      <td>it</td>\n",
              "      <td>148644</td>\n",
              "    </tr>\n",
              "    <tr>\n",
              "      <th>8</th>\n",
              "      <td>in</td>\n",
              "      <td>145477</td>\n",
              "    </tr>\n",
              "    <tr>\n",
              "      <th>9</th>\n",
              "      <td>for</td>\n",
              "      <td>102723</td>\n",
              "    </tr>\n",
              "  </tbody>\n",
              "</table>\n",
              "</div>\n",
              "      <button class=\"colab-df-convert\" onclick=\"convertToInteractive('df-01f9887d-6451-404e-8a91-7f09609630d9')\"\n",
              "              title=\"Convert this dataframe to an interactive table.\"\n",
              "              style=\"display:none;\">\n",
              "        \n",
              "  <svg xmlns=\"http://www.w3.org/2000/svg\" height=\"24px\"viewBox=\"0 0 24 24\"\n",
              "       width=\"24px\">\n",
              "    <path d=\"M0 0h24v24H0V0z\" fill=\"none\"/>\n",
              "    <path d=\"M18.56 5.44l.94 2.06.94-2.06 2.06-.94-2.06-.94-.94-2.06-.94 2.06-2.06.94zm-11 1L8.5 8.5l.94-2.06 2.06-.94-2.06-.94L8.5 2.5l-.94 2.06-2.06.94zm10 10l.94 2.06.94-2.06 2.06-.94-2.06-.94-.94-2.06-.94 2.06-2.06.94z\"/><path d=\"M17.41 7.96l-1.37-1.37c-.4-.4-.92-.59-1.43-.59-.52 0-1.04.2-1.43.59L10.3 9.45l-7.72 7.72c-.78.78-.78 2.05 0 2.83L4 21.41c.39.39.9.59 1.41.59.51 0 1.02-.2 1.41-.59l7.78-7.78 2.81-2.81c.8-.78.8-2.07 0-2.86zM5.41 20L4 18.59l7.72-7.72 1.47 1.35L5.41 20z\"/>\n",
              "  </svg>\n",
              "      </button>\n",
              "      \n",
              "  <style>\n",
              "    .colab-df-container {\n",
              "      display:flex;\n",
              "      flex-wrap:wrap;\n",
              "      gap: 12px;\n",
              "    }\n",
              "\n",
              "    .colab-df-convert {\n",
              "      background-color: #E8F0FE;\n",
              "      border: none;\n",
              "      border-radius: 50%;\n",
              "      cursor: pointer;\n",
              "      display: none;\n",
              "      fill: #1967D2;\n",
              "      height: 32px;\n",
              "      padding: 0 0 0 0;\n",
              "      width: 32px;\n",
              "    }\n",
              "\n",
              "    .colab-df-convert:hover {\n",
              "      background-color: #E2EBFA;\n",
              "      box-shadow: 0px 1px 2px rgba(60, 64, 67, 0.3), 0px 1px 3px 1px rgba(60, 64, 67, 0.15);\n",
              "      fill: #174EA6;\n",
              "    }\n",
              "\n",
              "    [theme=dark] .colab-df-convert {\n",
              "      background-color: #3B4455;\n",
              "      fill: #D2E3FC;\n",
              "    }\n",
              "\n",
              "    [theme=dark] .colab-df-convert:hover {\n",
              "      background-color: #434B5C;\n",
              "      box-shadow: 0px 1px 3px 1px rgba(0, 0, 0, 0.15);\n",
              "      filter: drop-shadow(0px 1px 2px rgba(0, 0, 0, 0.3));\n",
              "      fill: #FFFFFF;\n",
              "    }\n",
              "  </style>\n",
              "\n",
              "      <script>\n",
              "        const buttonEl =\n",
              "          document.querySelector('#df-01f9887d-6451-404e-8a91-7f09609630d9 button.colab-df-convert');\n",
              "        buttonEl.style.display =\n",
              "          google.colab.kernel.accessAllowed ? 'block' : 'none';\n",
              "\n",
              "        async function convertToInteractive(key) {\n",
              "          const element = document.querySelector('#df-01f9887d-6451-404e-8a91-7f09609630d9');\n",
              "          const dataTable =\n",
              "            await google.colab.kernel.invokeFunction('convertToInteractive',\n",
              "                                                     [key], {});\n",
              "          if (!dataTable) return;\n",
              "\n",
              "          const docLinkHtml = 'Like what you see? Visit the ' +\n",
              "            '<a target=\"_blank\" href=https://colab.research.google.com/notebooks/data_table.ipynb>data table notebook</a>'\n",
              "            + ' to learn more about interactive tables.';\n",
              "          element.innerHTML = '';\n",
              "          dataTable['output_type'] = 'display_data';\n",
              "          await google.colab.output.renderOutput(dataTable, element);\n",
              "          const docLink = document.createElement('div');\n",
              "          docLink.innerHTML = docLinkHtml;\n",
              "          element.appendChild(docLink);\n",
              "        }\n",
              "      </script>\n",
              "    </div>\n",
              "  </div>\n",
              "  "
            ]
          },
          "metadata": {},
          "execution_count": 19
        }
      ],
      "source": [
        "# applying CountVectorizer to entire dat\n",
        "cv = CountVectorizer() # If set to n-gram in (up to 2-gram)ngram_range = (1, 3)\n",
        "documents = train.comment_text.tolist()\n",
        "documents = [' '.join(documents)] \n",
        "\n",
        "X = cv.fit_transform(documents).toarray()\n",
        "freqs = X.transpose().flatten() # One-dimensional, arrayed encoding vectors spread out in one dimension\n",
        "words = cv.get_feature_names_out() # Array mapping from feature integer indices to feature name.\n",
        "\n",
        "df_word = pd.DataFrame({'word': words, 'freq': freqs})\n",
        "df_word = df_word.sort_values(by='freq', ascending=False)\n",
        "\n",
        "df_word = df_word.reset_index().drop(['index'],axis=1)\n",
        "df_word[:10]"
      ]
    },
    {
      "cell_type": "code",
      "source": [
        "import nltk\n",
        "nltk.download('stopwords')"
      ],
      "metadata": {
        "colab": {
          "base_uri": "https://localhost:8080/"
        },
        "id": "Li9QiV6_PDGi",
        "outputId": "27c213ce-cddb-4628-c843-15ecd1037b43"
      },
      "id": "Li9QiV6_PDGi",
      "execution_count": 20,
      "outputs": [
        {
          "output_type": "stream",
          "name": "stderr",
          "text": [
            "[nltk_data] Downloading package stopwords to /root/nltk_data...\n",
            "[nltk_data]   Package stopwords is already up-to-date!\n"
          ]
        },
        {
          "output_type": "execute_result",
          "data": {
            "text/plain": [
              "True"
            ]
          },
          "metadata": {},
          "execution_count": 20
        }
      ]
    },
    {
      "cell_type": "code",
      "execution_count": 21,
      "id": "4ac97b34-bf6e-400e-9948-6dff5d87fead",
      "metadata": {
        "tags": [],
        "id": "4ac97b34-bf6e-400e-9948-6dff5d87fead",
        "outputId": "4c4af7c5-e9ac-43af-afd3-68ba29f4e63a",
        "colab": {
          "base_uri": "https://localhost:8080/"
        }
      },
      "outputs": [
        {
          "output_type": "stream",
          "name": "stdout",
          "text": [
            "Number of stop words created from training data:  70\n",
            "['the', 'to', 'of', 'and', 'you', 'is', 'that', 'it', 'in', 'for'] ...\n",
            " \n",
            "Final stopwords count : 192\n"
          ]
        }
      ],
      "source": [
        "stopwords_list = df_word.word.tolist()[:70]\n",
        "print('Number of stop words created from training data: ',len(stopwords_list))\n",
        "print(stopwords_list[:10],'...')\n",
        "\n",
        "# Using NLTK's Stopwords\n",
        "from nltk.corpus import stopwords\n",
        "stopwords_list+=stopwords.words('english')\n",
        "stopwords = set(stopwords_list)\n",
        "print(' ')\n",
        "print(\"Final stopwords count :\", len(stopwords))"
      ]
    },
    {
      "cell_type": "code",
      "execution_count": 22,
      "id": "b875a6b2-4d57-430b-ac00-daab264cc3e9",
      "metadata": {
        "tags": [],
        "id": "b875a6b2-4d57-430b-ac00-daab264cc3e9"
      },
      "outputs": [],
      "source": [
        "from nltk.tokenize import word_tokenize\n",
        "\n",
        "# Use NLTK's tokenizer to tokenize, remove stop words, remove tokens less than 2 in length\n",
        "def remove_stopwords(text):\n",
        "    stopwords_list = stopwords\n",
        "    word_tokens = word_tokenize(text)\n",
        "    result = []\n",
        "    for w in word_tokens:\n",
        "        if len(w)>2 and w not in stopwords_list:\n",
        "            result.append(w)\n",
        "    return ' '.join(result)\n",
        "\n",
        "# Remove everything except English, lowercase\n",
        "def remove_special(text, lower=True):\n",
        "    if lower:\n",
        "        text = text.lower()\n",
        "    text = re.sub(\"[^a-zA-Z]\", \" \", text)\n",
        "    text = \" \".join(\n",
        "        text.split()\n",
        "    )\n",
        "    return text\n",
        "\n",
        "def remove_repeat(text, repeat=1):\n",
        "    text = text.split(' ')\n",
        "    result = []\n",
        "    for word in text:\n",
        "        if result.count(word)<repeat:\n",
        "            result.append(word)\n",
        "    return ' '.join(result)"
      ]
    },
    {
      "cell_type": "code",
      "source": [
        "nltk.download('punkt')"
      ],
      "metadata": {
        "colab": {
          "base_uri": "https://localhost:8080/"
        },
        "id": "HbgQnf2PPYIr",
        "outputId": "65762448-e5b8-4bc5-f4cf-45187e244c10"
      },
      "id": "HbgQnf2PPYIr",
      "execution_count": 23,
      "outputs": [
        {
          "output_type": "stream",
          "name": "stderr",
          "text": [
            "[nltk_data] Downloading package punkt to /root/nltk_data...\n",
            "[nltk_data]   Package punkt is already up-to-date!\n"
          ]
        },
        {
          "output_type": "execute_result",
          "data": {
            "text/plain": [
              "True"
            ]
          },
          "metadata": {},
          "execution_count": 23
        }
      ]
    },
    {
      "cell_type": "code",
      "execution_count": 24,
      "id": "ba54979a-025b-431b-a792-fec3be48f8f6",
      "metadata": {
        "tags": [],
        "id": "ba54979a-025b-431b-a792-fec3be48f8f6"
      },
      "outputs": [],
      "source": [
        "train['preprocess_text'] = train['preprocess_text'].apply(remove_special)\n",
        "train['preprocess_text'] = train['preprocess_text'].apply(remove_stopwords)"
      ]
    },
    {
      "cell_type": "code",
      "execution_count": 25,
      "id": "654d7b3f-b66c-437c-881c-de9e12063189",
      "metadata": {
        "tags": [],
        "id": "654d7b3f-b66c-437c-881c-de9e12063189"
      },
      "outputs": [],
      "source": [
        "test['preprocess_text'] = test['comment_text'].apply(clean_text)\n",
        "test['preprocess_text'] = test['preprocess_text'].apply(remove_special)\n",
        "test['preprocess_text'] = test['preprocess_text'].apply(remove_stopwords)"
      ]
    },
    {
      "cell_type": "markdown",
      "id": "12f96a20-1b71-493f-90d0-8ebaf5e797f0",
      "metadata": {
        "id": "12f96a20-1b71-493f-90d0-8ebaf5e797f0"
      },
      "source": [
        "# 3. Text preprocessing - decide whether to remove repetitions"
      ]
    },
    {
      "cell_type": "code",
      "execution_count": 26,
      "id": "8df97486-88f5-40a9-8cd8-abca7ea7adb4",
      "metadata": {
        "tags": [],
        "id": "8df97486-88f5-40a9-8cd8-abca7ea7adb4",
        "outputId": "57eb1da6-3652-43a8-a8a7-02a9bde6618f",
        "colab": {
          "base_uri": "https://localhost:8080/",
          "height": 450
        }
      },
      "outputs": [
        {
          "output_type": "stream",
          "name": "stdout",
          "text": [
            "count    159571.000000\n",
            "mean         31.193506\n",
            "std          49.602668\n",
            "min           1.000000\n",
            "25%           7.000000\n",
            "50%          16.000000\n",
            "75%          34.000000\n",
            "max        1250.000000\n",
            "Name: preprocess_text, dtype: float64\n"
          ]
        },
        {
          "output_type": "execute_result",
          "data": {
            "text/plain": [
              "<AxesSubplot:xlabel='preprocess_text', ylabel='Density'>"
            ]
          },
          "metadata": {},
          "execution_count": 26
        },
        {
          "output_type": "display_data",
          "data": {
            "text/plain": [
              "<Figure size 432x288 with 1 Axes>"
            ],
            "image/png": "[encoded data removed]"
          },
          "metadata": {}
        }
      ],
      "source": [
        "# Word Count\n",
        "def num_of_word(text):\n",
        "    return len(text.split(' '))\n",
        "\n",
        "tmp = train['preprocess_text'].apply(num_of_word)\n",
        "print(tmp.describe())\n",
        "sns.distplot(tmp)"
      ]
    },
    {
      "cell_type": "markdown",
      "id": "194fd8af-67d5-4a30-8581-7039aef74b27",
      "metadata": {
        "id": "194fd8af-67d5-4a30-8581-7039aef74b27"
      },
      "source": [
        "### Word count\n",
        "- 75% of words are 34 or less\n",
        "- But max = 1250, which is very large\n",
        "- Let's look at more than 500 and more than 1000 pieces of data."
      ]
    },
    {
      "cell_type": "code",
      "execution_count": 27,
      "id": "69c5de61-ff12-461f-b8ec-ffbd2a6d6478",
      "metadata": {
        "tags": [],
        "id": "69c5de61-ff12-461f-b8ec-ffbd2a6d6478",
        "outputId": "ba50f8ff-bc22-451a-d68c-ab3a378b1494",
        "colab": {
          "base_uri": "https://localhost:8080/",
          "height": 917
        }
      },
      "outputs": [
        {
          "output_type": "display_data",
          "data": {
            "text/plain": [
              "                    id                                       comment_text  \\\n",
              "2420  067c5e814e88a56b  FUCK YOU U USELESS BOT FUCK YOU U USELESS BOT ...   \n",
              "4174  0b2055f13934a41e  ii CAN STILL POST WITH THIS COMPUTER...I SAID ...   \n",
              "4712  0c7c341727488579  do go fuck off bastard\\nDo Yyou Have a life?\\n...   \n",
              "\n",
              "      toxic  severe_toxic  obscene  threat  insult  identity_hate  \\\n",
              "2420      1             1        1       0       1              0   \n",
              "4174      1             0        1       0       1              0   \n",
              "4712      1             1        1       1       1              0   \n",
              "\n",
              "      sum_harmful  len_of_text  \\\n",
              "2420            4         4999   \n",
              "4174            3         5000   \n",
              "4712            5         4969   \n",
              "\n",
              "                                        preprocess_text  num_of_word  \n",
              "2420  fuck useless bot fuck useless bot fuck useless...          652  \n",
              "4174  still post computer said block come fuck arres...          520  \n",
              "4712  fuck bastard yyou life fuck bastard yank cock ...          700  "
            ],
            "text/html": [
              "\n",
              "  <div id=\"df-5014299f-ce2c-4478-931e-3babdb08edbc\">\n",
              "    <div class=\"colab-df-container\">\n",
              "      <div>\n",
              "<style scoped>\n",
              "    .dataframe tbody tr th:only-of-type {\n",
              "        vertical-align: middle;\n",
              "    }\n",
              "\n",
              "    .dataframe tbody tr th {\n",
              "        vertical-align: top;\n",
              "    }\n",
              "\n",
              "    .dataframe thead th {\n",
              "        text-align: right;\n",
              "    }\n",
              "</style>\n",
              "<table border=\"1\" class=\"dataframe\">\n",
              "  <thead>\n",
              "    <tr style=\"text-align: right;\">\n",
              "      <th></th>\n",
              "      <th>id</th>\n",
              "      <th>comment_text</th>\n",
              "      <th>toxic</th>\n",
              "      <th>severe_toxic</th>\n",
              "      <th>obscene</th>\n",
              "      <th>threat</th>\n",
              "      <th>insult</th>\n",
              "      <th>identity_hate</th>\n",
              "      <th>sum_harmful</th>\n",
              "      <th>len_of_text</th>\n",
              "      <th>preprocess_text</th>\n",
              "      <th>num_of_word</th>\n",
              "    </tr>\n",
              "  </thead>\n",
              "  <tbody>\n",
              "    <tr>\n",
              "      <th>2420</th>\n",
              "      <td>067c5e814e88a56b</td>\n",
              "      <td>FUCK YOU U USELESS BOT FUCK YOU U USELESS BOT ...</td>\n",
              "      <td>1</td>\n",
              "      <td>1</td>\n",
              "      <td>1</td>\n",
              "      <td>0</td>\n",
              "      <td>1</td>\n",
              "      <td>0</td>\n",
              "      <td>4</td>\n",
              "      <td>4999</td>\n",
              "      <td>fuck useless bot fuck useless bot fuck useless...</td>\n",
              "      <td>652</td>\n",
              "    </tr>\n",
              "    <tr>\n",
              "      <th>4174</th>\n",
              "      <td>0b2055f13934a41e</td>\n",
              "      <td>ii CAN STILL POST WITH THIS COMPUTER...I SAID ...</td>\n",
              "      <td>1</td>\n",
              "      <td>0</td>\n",
              "      <td>1</td>\n",
              "      <td>0</td>\n",
              "      <td>1</td>\n",
              "      <td>0</td>\n",
              "      <td>3</td>\n",
              "      <td>5000</td>\n",
              "      <td>still post computer said block come fuck arres...</td>\n",
              "      <td>520</td>\n",
              "    </tr>\n",
              "    <tr>\n",
              "      <th>4712</th>\n",
              "      <td>0c7c341727488579</td>\n",
              "      <td>do go fuck off bastard\\nDo Yyou Have a life?\\n...</td>\n",
              "      <td>1</td>\n",
              "      <td>1</td>\n",
              "      <td>1</td>\n",
              "      <td>1</td>\n",
              "      <td>1</td>\n",
              "      <td>0</td>\n",
              "      <td>5</td>\n",
              "      <td>4969</td>\n",
              "      <td>fuck bastard yyou life fuck bastard yank cock ...</td>\n",
              "      <td>700</td>\n",
              "    </tr>\n",
              "  </tbody>\n",
              "</table>\n",
              "</div>\n",
              "      <button class=\"colab-df-convert\" onclick=\"convertToInteractive('df-5014299f-ce2c-4478-931e-3babdb08edbc')\"\n",
              "              title=\"Convert this dataframe to an interactive table.\"\n",
              "              style=\"display:none;\">\n",
              "        \n",
              "  <svg xmlns=\"http://www.w3.org/2000/svg\" height=\"24px\"viewBox=\"0 0 24 24\"\n",
              "       width=\"24px\">\n",
              "    <path d=\"M0 0h24v24H0V0z\" fill=\"none\"/>\n",
              "    <path d=\"M18.56 5.44l.94 2.06.94-2.06 2.06-.94-2.06-.94-.94-2.06-.94 2.06-2.06.94zm-11 1L8.5 8.5l.94-2.06 2.06-.94-2.06-.94L8.5 2.5l-.94 2.06-2.06.94zm10 10l.94 2.06.94-2.06 2.06-.94-2.06-.94-.94-2.06-.94 2.06-2.06.94z\"/><path d=\"M17.41 7.96l-1.37-1.37c-.4-.4-.92-.59-1.43-.59-.52 0-1.04.2-1.43.59L10.3 9.45l-7.72 7.72c-.78.78-.78 2.05 0 2.83L4 21.41c.39.39.9.59 1.41.59.51 0 1.02-.2 1.41-.59l7.78-7.78 2.81-2.81c.8-.78.8-2.07 0-2.86zM5.41 20L4 18.59l7.72-7.72 1.47 1.35L5.41 20z\"/>\n",
              "  </svg>\n",
              "      </button>\n",
              "      \n",
              "  <style>\n",
              "    .colab-df-container {\n",
              "      display:flex;\n",
              "      flex-wrap:wrap;\n",
              "      gap: 12px;\n",
              "    }\n",
              "\n",
              "    .colab-df-convert {\n",
              "      background-color: #E8F0FE;\n",
              "      border: none;\n",
              "      border-radius: 50%;\n",
              "      cursor: pointer;\n",
              "      display: none;\n",
              "      fill: #1967D2;\n",
              "      height: 32px;\n",
              "      padding: 0 0 0 0;\n",
              "      width: 32px;\n",
              "    }\n",
              "\n",
              "    .colab-df-convert:hover {\n",
              "      background-color: #E2EBFA;\n",
              "      box-shadow: 0px 1px 2px rgba(60, 64, 67, 0.3), 0px 1px 3px 1px rgba(60, 64, 67, 0.15);\n",
              "      fill: #174EA6;\n",
              "    }\n",
              "\n",
              "    [theme=dark] .colab-df-convert {\n",
              "      background-color: #3B4455;\n",
              "      fill: #D2E3FC;\n",
              "    }\n",
              "\n",
              "    [theme=dark] .colab-df-convert:hover {\n",
              "      background-color: #434B5C;\n",
              "      box-shadow: 0px 1px 3px 1px rgba(0, 0, 0, 0.15);\n",
              "      filter: drop-shadow(0px 1px 2px rgba(0, 0, 0, 0.3));\n",
              "      fill: #FFFFFF;\n",
              "    }\n",
              "  </style>\n",
              "\n",
              "      <script>\n",
              "        const buttonEl =\n",
              "          document.querySelector('#df-5014299f-ce2c-4478-931e-3babdb08edbc button.colab-df-convert');\n",
              "        buttonEl.style.display =\n",
              "          google.colab.kernel.accessAllowed ? 'block' : 'none';\n",
              "\n",
              "        async function convertToInteractive(key) {\n",
              "          const element = document.querySelector('#df-5014299f-ce2c-4478-931e-3babdb08edbc');\n",
              "          const dataTable =\n",
              "            await google.colab.kernel.invokeFunction('convertToInteractive',\n",
              "                                                     [key], {});\n",
              "          if (!dataTable) return;\n",
              "\n",
              "          const docLinkHtml = 'Like what you see? Visit the ' +\n",
              "            '<a target=\"_blank\" href=https://colab.research.google.com/notebooks/data_table.ipynb>data table notebook</a>'\n",
              "            + ' to learn more about interactive tables.';\n",
              "          element.innerHTML = '';\n",
              "          dataTable['output_type'] = 'display_data';\n",
              "          await google.colab.output.renderOutput(dataTable, element);\n",
              "          const docLink = document.createElement('div');\n",
              "          docLink.innerHTML = docLinkHtml;\n",
              "          element.appendChild(docLink);\n",
              "        }\n",
              "      </script>\n",
              "    </div>\n",
              "  </div>\n",
              "  "
            ]
          },
          "metadata": {}
        },
        {
          "output_type": "display_data",
          "data": {
            "text/plain": [
              "                      id                                       comment_text  \\\n",
              "6572    118e2e7cd2b30188  Sex sex sex sex Sex sex sex sexSex sex sex sex...   \n",
              "32143   5572234220e43ea2  PIG PIG PIG PIG PIG PIG PIG PIG PIG PIG PIG PI...   \n",
              "32400   56311e1c0b2cbb52  THAT WAS REALLY MILLESECONDS WASNT IT BITCH \\n...   \n",
              "76598   cd135d9358a9e9ea  DIE FAG DIE FAG DIE FAG DIE FAG DIE FAG DIE FA...   \n",
              "150039  65d66bf057752682  LOL LOL LOL LOL LOL LOL LOL LOL LOL LOL LOL LO...   \n",
              "153353  9bb20c51c9fec236  FAT JEW FAT JEW FAT JEW FAT JEW FAT JEW FAT JE...   \n",
              "\n",
              "        toxic  severe_toxic  obscene  threat  insult  identity_hate  \\\n",
              "6572        1             0        0       0       0              0   \n",
              "32143       1             0        0       0       0              0   \n",
              "32400       1             0        1       0       1              1   \n",
              "76598       1             0        0       0       0              0   \n",
              "150039      0             0        0       0       0              0   \n",
              "153353      1             0        0       0       1              1   \n",
              "\n",
              "        sum_harmful  len_of_text  \\\n",
              "6572              1         4999   \n",
              "32143             1         4999   \n",
              "32400             4         4981   \n",
              "76598             1         4999   \n",
              "150039            0         4999   \n",
              "153353            3         4999   \n",
              "\n",
              "                                          preprocess_text  num_of_word  \n",
              "6572    sex sex sex sex sex sex sex sexsex sex sex sex...         1001  \n",
              "32143   pig pig pig pig pig pig pig pig pig pig pig pi...         1250  \n",
              "32400   really milleseconds wasnt bitch fat jew fat je...         1235  \n",
              "76598   die fag die fag die fag die fag die fag die fa...         1250  \n",
              "150039  lol lol lol lol lol lol lol lol lol lol lol lo...         1250  \n",
              "153353  fat jew fat jew fat jew fat jew fat jew fat je...         1247  "
            ],
            "text/html": [
              "\n",
              "  <div id=\"df-f538f867-9e06-49c7-a95f-ec547b6dcc23\">\n",
              "    <div class=\"colab-df-container\">\n",
              "      <div>\n",
              "<style scoped>\n",
              "    .dataframe tbody tr th:only-of-type {\n",
              "        vertical-align: middle;\n",
              "    }\n",
              "\n",
              "    .dataframe tbody tr th {\n",
              "        vertical-align: top;\n",
              "    }\n",
              "\n",
              "    .dataframe thead th {\n",
              "        text-align: right;\n",
              "    }\n",
              "</style>\n",
              "<table border=\"1\" class=\"dataframe\">\n",
              "  <thead>\n",
              "    <tr style=\"text-align: right;\">\n",
              "      <th></th>\n",
              "      <th>id</th>\n",
              "      <th>comment_text</th>\n",
              "      <th>toxic</th>\n",
              "      <th>severe_toxic</th>\n",
              "      <th>obscene</th>\n",
              "      <th>threat</th>\n",
              "      <th>insult</th>\n",
              "      <th>identity_hate</th>\n",
              "      <th>sum_harmful</th>\n",
              "      <th>len_of_text</th>\n",
              "      <th>preprocess_text</th>\n",
              "      <th>num_of_word</th>\n",
              "    </tr>\n",
              "  </thead>\n",
              "  <tbody>\n",
              "    <tr>\n",
              "      <th>6572</th>\n",
              "      <td>118e2e7cd2b30188</td>\n",
              "      <td>Sex sex sex sex Sex sex sex sexSex sex sex sex...</td>\n",
              "      <td>1</td>\n",
              "      <td>0</td>\n",
              "      <td>0</td>\n",
              "      <td>0</td>\n",
              "      <td>0</td>\n",
              "      <td>0</td>\n",
              "      <td>1</td>\n",
              "      <td>4999</td>\n",
              "      <td>sex sex sex sex sex sex sex sexsex sex sex sex...</td>\n",
              "      <td>1001</td>\n",
              "    </tr>\n",
              "    <tr>\n",
              "      <th>32143</th>\n",
              "      <td>5572234220e43ea2</td>\n",
              "      <td>PIG PIG PIG PIG PIG PIG PIG PIG PIG PIG PIG PI...</td>\n",
              "      <td>1</td>\n",
              "      <td>0</td>\n",
              "      <td>0</td>\n",
              "      <td>0</td>\n",
              "      <td>0</td>\n",
              "      <td>0</td>\n",
              "      <td>1</td>\n",
              "      <td>4999</td>\n",
              "      <td>pig pig pig pig pig pig pig pig pig pig pig pi...</td>\n",
              "      <td>1250</td>\n",
              "    </tr>\n",
              "    <tr>\n",
              "      <th>32400</th>\n",
              "      <td>56311e1c0b2cbb52</td>\n",
              "      <td>THAT WAS REALLY MILLESECONDS WASNT IT BITCH \\n...</td>\n",
              "      <td>1</td>\n",
              "      <td>0</td>\n",
              "      <td>1</td>\n",
              "      <td>0</td>\n",
              "      <td>1</td>\n",
              "      <td>1</td>\n",
              "      <td>4</td>\n",
              "      <td>4981</td>\n",
              "      <td>really milleseconds wasnt bitch fat jew fat je...</td>\n",
              "      <td>1235</td>\n",
              "    </tr>\n",
              "    <tr>\n",
              "      <th>76598</th>\n",
              "      <td>cd135d9358a9e9ea</td>\n",
              "      <td>DIE FAG DIE FAG DIE FAG DIE FAG DIE FAG DIE FA...</td>\n",
              "      <td>1</td>\n",
              "      <td>0</td>\n",
              "      <td>0</td>\n",
              "      <td>0</td>\n",
              "      <td>0</td>\n",
              "      <td>0</td>\n",
              "      <td>1</td>\n",
              "      <td>4999</td>\n",
              "      <td>die fag die fag die fag die fag die fag die fa...</td>\n",
              "      <td>1250</td>\n",
              "    </tr>\n",
              "    <tr>\n",
              "      <th>150039</th>\n",
              "      <td>65d66bf057752682</td>\n",
              "      <td>LOL LOL LOL LOL LOL LOL LOL LOL LOL LOL LOL LO...</td>\n",
              "      <td>0</td>\n",
              "      <td>0</td>\n",
              "      <td>0</td>\n",
              "      <td>0</td>\n",
              "      <td>0</td>\n",
              "      <td>0</td>\n",
              "      <td>0</td>\n",
              "      <td>4999</td>\n",
              "      <td>lol lol lol lol lol lol lol lol lol lol lol lo...</td>\n",
              "      <td>1250</td>\n",
              "    </tr>\n",
              "    <tr>\n",
              "      <th>153353</th>\n",
              "      <td>9bb20c51c9fec236</td>\n",
              "      <td>FAT JEW FAT JEW FAT JEW FAT JEW FAT JEW FAT JE...</td>\n",
              "      <td>1</td>\n",
              "      <td>0</td>\n",
              "      <td>0</td>\n",
              "      <td>0</td>\n",
              "      <td>1</td>\n",
              "      <td>1</td>\n",
              "      <td>3</td>\n",
              "      <td>4999</td>\n",
              "      <td>fat jew fat jew fat jew fat jew fat jew fat je...</td>\n",
              "      <td>1247</td>\n",
              "    </tr>\n",
              "  </tbody>\n",
              "</table>\n",
              "</div>\n",
              "      <button class=\"colab-df-convert\" onclick=\"convertToInteractive('df-f538f867-9e06-49c7-a95f-ec547b6dcc23')\"\n",
              "              title=\"Convert this dataframe to an interactive table.\"\n",
              "              style=\"display:none;\">\n",
              "        \n",
              "  <svg xmlns=\"http://www.w3.org/2000/svg\" height=\"24px\"viewBox=\"0 0 24 24\"\n",
              "       width=\"24px\">\n",
              "    <path d=\"M0 0h24v24H0V0z\" fill=\"none\"/>\n",
              "    <path d=\"M18.56 5.44l.94 2.06.94-2.06 2.06-.94-2.06-.94-.94-2.06-.94 2.06-2.06.94zm-11 1L8.5 8.5l.94-2.06 2.06-.94-2.06-.94L8.5 2.5l-.94 2.06-2.06.94zm10 10l.94 2.06.94-2.06 2.06-.94-2.06-.94-.94-2.06-.94 2.06-2.06.94z\"/><path d=\"M17.41 7.96l-1.37-1.37c-.4-.4-.92-.59-1.43-.59-.52 0-1.04.2-1.43.59L10.3 9.45l-7.72 7.72c-.78.78-.78 2.05 0 2.83L4 21.41c.39.39.9.59 1.41.59.51 0 1.02-.2 1.41-.59l7.78-7.78 2.81-2.81c.8-.78.8-2.07 0-2.86zM5.41 20L4 18.59l7.72-7.72 1.47 1.35L5.41 20z\"/>\n",
              "  </svg>\n",
              "      </button>\n",
              "      \n",
              "  <style>\n",
              "    .colab-df-container {\n",
              "      display:flex;\n",
              "      flex-wrap:wrap;\n",
              "      gap: 12px;\n",
              "    }\n",
              "\n",
              "    .colab-df-convert {\n",
              "      background-color: #E8F0FE;\n",
              "      border: none;\n",
              "      border-radius: 50%;\n",
              "      cursor: pointer;\n",
              "      display: none;\n",
              "      fill: #1967D2;\n",
              "      height: 32px;\n",
              "      padding: 0 0 0 0;\n",
              "      width: 32px;\n",
              "    }\n",
              "\n",
              "    .colab-df-convert:hover {\n",
              "      background-color: #E2EBFA;\n",
              "      box-shadow: 0px 1px 2px rgba(60, 64, 67, 0.3), 0px 1px 3px 1px rgba(60, 64, 67, 0.15);\n",
              "      fill: #174EA6;\n",
              "    }\n",
              "\n",
              "    [theme=dark] .colab-df-convert {\n",
              "      background-color: #3B4455;\n",
              "      fill: #D2E3FC;\n",
              "    }\n",
              "\n",
              "    [theme=dark] .colab-df-convert:hover {\n",
              "      background-color: #434B5C;\n",
              "      box-shadow: 0px 1px 3px 1px rgba(0, 0, 0, 0.15);\n",
              "      filter: drop-shadow(0px 1px 2px rgba(0, 0, 0, 0.3));\n",
              "      fill: #FFFFFF;\n",
              "    }\n",
              "  </style>\n",
              "\n",
              "      <script>\n",
              "        const buttonEl =\n",
              "          document.querySelector('#df-f538f867-9e06-49c7-a95f-ec547b6dcc23 button.colab-df-convert');\n",
              "        buttonEl.style.display =\n",
              "          google.colab.kernel.accessAllowed ? 'block' : 'none';\n",
              "\n",
              "        async function convertToInteractive(key) {\n",
              "          const element = document.querySelector('#df-f538f867-9e06-49c7-a95f-ec547b6dcc23');\n",
              "          const dataTable =\n",
              "            await google.colab.kernel.invokeFunction('convertToInteractive',\n",
              "                                                     [key], {});\n",
              "          if (!dataTable) return;\n",
              "\n",
              "          const docLinkHtml = 'Like what you see? Visit the ' +\n",
              "            '<a target=\"_blank\" href=https://colab.research.google.com/notebooks/data_table.ipynb>data table notebook</a>'\n",
              "            + ' to learn more about interactive tables.';\n",
              "          element.innerHTML = '';\n",
              "          dataTable['output_type'] = 'display_data';\n",
              "          await google.colab.output.renderOutput(dataTable, element);\n",
              "          const docLink = document.createElement('div');\n",
              "          docLink.innerHTML = docLinkHtml;\n",
              "          element.appendChild(docLink);\n",
              "        }\n",
              "      </script>\n",
              "    </div>\n",
              "  </div>\n",
              "  "
            ]
          },
          "metadata": {}
        }
      ],
      "source": [
        "train['num_of_word'] = train['preprocess_text'].apply(num_of_word)\n",
        "display(train[(train['num_of_word'] > 500)&(train['num_of_word'] < 1000)].head(3))\n",
        "display(train[train['num_of_word'] > 1000])"
      ]
    },
    {
      "cell_type": "markdown",
      "id": "286f0642-d906-47c8-96a0-6d99d942bfa8",
      "metadata": {
        "id": "286f0642-d906-47c8-96a0-6d99d942bfa8"
      },
      "source": [
        "If the number of words is large it might lead to incorrect results\n",
        " --> If we get rid of this, will the model catch fewer of these trends?\n",
        "- Model performance comparison experiment before and after removal"
      ]
    },
    {
      "cell_type": "code",
      "execution_count": 28,
      "id": "e24a2bb0-297f-4a23-95b5-fbd0615bc17e",
      "metadata": {
        "tags": [],
        "id": "e24a2bb0-297f-4a23-95b5-fbd0615bc17e",
        "outputId": "31dee40d-5e20-4b96-bd96-d8f9f1d5ad8a",
        "colab": {
          "base_uri": "https://localhost:8080/",
          "height": 450
        }
      },
      "outputs": [
        {
          "output_type": "display_data",
          "data": {
            "text/plain": [
              "                 id                                       comment_text  toxic  \\\n",
              "0  0000997932d777bf  Explanation\\nWhy the edits made under my usern...      0   \n",
              "1  000103f0d9cfb60f  D'aww! He matches this background colour I'm s...      0   \n",
              "2  000113f07ec002fd  Hey man, I'm really not trying to edit war. It...      0   \n",
              "\n",
              "   severe_toxic  obscene  threat  insult  identity_hate  sum_harmful  \\\n",
              "0             0        0       0       0              0            0   \n",
              "1             0        0       0       0              0            0   \n",
              "2             0        0       0       0              0            0   \n",
              "\n",
              "   len_of_text                                    preprocess_text  \\\n",
              "0          264  explanation edits made username hardcore metal...   \n",
              "1          112  aww matches background colour seemingly stuck ...   \n",
              "2          233  hey man really trying edit war guy constantly ...   \n",
              "\n",
              "   num_of_word                                      remove_repeat  \n",
              "0           20  explanation edits made username hardcore metal...  \n",
              "1            9  aww matches background colour seemingly stuck ...  \n",
              "2           19  hey man really trying edit war guy constantly ...  "
            ],
            "text/html": [
              "\n",
              "  <div id=\"df-916201a4-9532-4fcf-8f63-cbc3b299eb72\">\n",
              "    <div class=\"colab-df-container\">\n",
              "      <div>\n",
              "<style scoped>\n",
              "    .dataframe tbody tr th:only-of-type {\n",
              "        vertical-align: middle;\n",
              "    }\n",
              "\n",
              "    .dataframe tbody tr th {\n",
              "        vertical-align: top;\n",
              "    }\n",
              "\n",
              "    .dataframe thead th {\n",
              "        text-align: right;\n",
              "    }\n",
              "</style>\n",
              "<table border=\"1\" class=\"dataframe\">\n",
              "  <thead>\n",
              "    <tr style=\"text-align: right;\">\n",
              "      <th></th>\n",
              "      <th>id</th>\n",
              "      <th>comment_text</th>\n",
              "      <th>toxic</th>\n",
              "      <th>severe_toxic</th>\n",
              "      <th>obscene</th>\n",
              "      <th>threat</th>\n",
              "      <th>insult</th>\n",
              "      <th>identity_hate</th>\n",
              "      <th>sum_harmful</th>\n",
              "      <th>len_of_text</th>\n",
              "      <th>preprocess_text</th>\n",
              "      <th>num_of_word</th>\n",
              "      <th>remove_repeat</th>\n",
              "    </tr>\n",
              "  </thead>\n",
              "  <tbody>\n",
              "    <tr>\n",
              "      <th>0</th>\n",
              "      <td>0000997932d777bf</td>\n",
              "      <td>Explanation\\nWhy the edits made under my usern...</td>\n",
              "      <td>0</td>\n",
              "      <td>0</td>\n",
              "      <td>0</td>\n",
              "      <td>0</td>\n",
              "      <td>0</td>\n",
              "      <td>0</td>\n",
              "      <td>0</td>\n",
              "      <td>264</td>\n",
              "      <td>explanation edits made username hardcore metal...</td>\n",
              "      <td>20</td>\n",
              "      <td>explanation edits made username hardcore metal...</td>\n",
              "    </tr>\n",
              "    <tr>\n",
              "      <th>1</th>\n",
              "      <td>000103f0d9cfb60f</td>\n",
              "      <td>D'aww! He matches this background colour I'm s...</td>\n",
              "      <td>0</td>\n",
              "      <td>0</td>\n",
              "      <td>0</td>\n",
              "      <td>0</td>\n",
              "      <td>0</td>\n",
              "      <td>0</td>\n",
              "      <td>0</td>\n",
              "      <td>112</td>\n",
              "      <td>aww matches background colour seemingly stuck ...</td>\n",
              "      <td>9</td>\n",
              "      <td>aww matches background colour seemingly stuck ...</td>\n",
              "    </tr>\n",
              "    <tr>\n",
              "      <th>2</th>\n",
              "      <td>000113f07ec002fd</td>\n",
              "      <td>Hey man, I'm really not trying to edit war. It...</td>\n",
              "      <td>0</td>\n",
              "      <td>0</td>\n",
              "      <td>0</td>\n",
              "      <td>0</td>\n",
              "      <td>0</td>\n",
              "      <td>0</td>\n",
              "      <td>0</td>\n",
              "      <td>233</td>\n",
              "      <td>hey man really trying edit war guy constantly ...</td>\n",
              "      <td>19</td>\n",
              "      <td>hey man really trying edit war guy constantly ...</td>\n",
              "    </tr>\n",
              "  </tbody>\n",
              "</table>\n",
              "</div>\n",
              "      <button class=\"colab-df-convert\" onclick=\"convertToInteractive('df-916201a4-9532-4fcf-8f63-cbc3b299eb72')\"\n",
              "              title=\"Convert this dataframe to an interactive table.\"\n",
              "              style=\"display:none;\">\n",
              "        \n",
              "  <svg xmlns=\"http://www.w3.org/2000/svg\" height=\"24px\"viewBox=\"0 0 24 24\"\n",
              "       width=\"24px\">\n",
              "    <path d=\"M0 0h24v24H0V0z\" fill=\"none\"/>\n",
              "    <path d=\"M18.56 5.44l.94 2.06.94-2.06 2.06-.94-2.06-.94-.94-2.06-.94 2.06-2.06.94zm-11 1L8.5 8.5l.94-2.06 2.06-.94-2.06-.94L8.5 2.5l-.94 2.06-2.06.94zm10 10l.94 2.06.94-2.06 2.06-.94-2.06-.94-.94-2.06-.94 2.06-2.06.94z\"/><path d=\"M17.41 7.96l-1.37-1.37c-.4-.4-.92-.59-1.43-.59-.52 0-1.04.2-1.43.59L10.3 9.45l-7.72 7.72c-.78.78-.78 2.05 0 2.83L4 21.41c.39.39.9.59 1.41.59.51 0 1.02-.2 1.41-.59l7.78-7.78 2.81-2.81c.8-.78.8-2.07 0-2.86zM5.41 20L4 18.59l7.72-7.72 1.47 1.35L5.41 20z\"/>\n",
              "  </svg>\n",
              "      </button>\n",
              "      \n",
              "  <style>\n",
              "    .colab-df-container {\n",
              "      display:flex;\n",
              "      flex-wrap:wrap;\n",
              "      gap: 12px;\n",
              "    }\n",
              "\n",
              "    .colab-df-convert {\n",
              "      background-color: #E8F0FE;\n",
              "      border: none;\n",
              "      border-radius: 50%;\n",
              "      cursor: pointer;\n",
              "      display: none;\n",
              "      fill: #1967D2;\n",
              "      height: 32px;\n",
              "      padding: 0 0 0 0;\n",
              "      width: 32px;\n",
              "    }\n",
              "\n",
              "    .colab-df-convert:hover {\n",
              "      background-color: #E2EBFA;\n",
              "      box-shadow: 0px 1px 2px rgba(60, 64, 67, 0.3), 0px 1px 3px 1px rgba(60, 64, 67, 0.15);\n",
              "      fill: #174EA6;\n",
              "    }\n",
              "\n",
              "    [theme=dark] .colab-df-convert {\n",
              "      background-color: #3B4455;\n",
              "      fill: #D2E3FC;\n",
              "    }\n",
              "\n",
              "    [theme=dark] .colab-df-convert:hover {\n",
              "      background-color: #434B5C;\n",
              "      box-shadow: 0px 1px 3px 1px rgba(0, 0, 0, 0.15);\n",
              "      filter: drop-shadow(0px 1px 2px rgba(0, 0, 0, 0.3));\n",
              "      fill: #FFFFFF;\n",
              "    }\n",
              "  </style>\n",
              "\n",
              "      <script>\n",
              "        const buttonEl =\n",
              "          document.querySelector('#df-916201a4-9532-4fcf-8f63-cbc3b299eb72 button.colab-df-convert');\n",
              "        buttonEl.style.display =\n",
              "          google.colab.kernel.accessAllowed ? 'block' : 'none';\n",
              "\n",
              "        async function convertToInteractive(key) {\n",
              "          const element = document.querySelector('#df-916201a4-9532-4fcf-8f63-cbc3b299eb72');\n",
              "          const dataTable =\n",
              "            await google.colab.kernel.invokeFunction('convertToInteractive',\n",
              "                                                     [key], {});\n",
              "          if (!dataTable) return;\n",
              "\n",
              "          const docLinkHtml = 'Like what you see? Visit the ' +\n",
              "            '<a target=\"_blank\" href=https://colab.research.google.com/notebooks/data_table.ipynb>data table notebook</a>'\n",
              "            + ' to learn more about interactive tables.';\n",
              "          element.innerHTML = '';\n",
              "          dataTable['output_type'] = 'display_data';\n",
              "          await google.colab.output.renderOutput(dataTable, element);\n",
              "          const docLink = document.createElement('div');\n",
              "          docLink.innerHTML = docLinkHtml;\n",
              "          element.appendChild(docLink);\n",
              "        }\n",
              "      </script>\n",
              "    </div>\n",
              "  </div>\n",
              "  "
            ]
          },
          "metadata": {}
        },
        {
          "output_type": "display_data",
          "data": {
            "text/plain": [
              "                 id                                       comment_text  \\\n",
              "0  00001cee341fdb12  Yo bitch Ja Rule is more succesful then you'll...   \n",
              "1  0000247867823ef7  == From RfC == \\n\\n The title is fine as it is...   \n",
              "2  00013b17ad220c46  \" \\n\\n == Sources == \\n\\n * Zawe Ashton on Lap...   \n",
              "\n",
              "                                     preprocess_text  \\\n",
              "0  bitch rule succesful ever whats hating sad mof...   \n",
              "1                                 rfc title fine imo   \n",
              "2                        sources zawe ashton lapland   \n",
              "\n",
              "                                       remove_repeat  \n",
              "0  bitch rule succesful ever whats hating sad mof...  \n",
              "1                                 rfc title fine imo  \n",
              "2                        sources zawe ashton lapland  "
            ],
            "text/html": [
              "\n",
              "  <div id=\"df-9df77cb4-d1c1-42a7-bb04-d906b397fcad\">\n",
              "    <div class=\"colab-df-container\">\n",
              "      <div>\n",
              "<style scoped>\n",
              "    .dataframe tbody tr th:only-of-type {\n",
              "        vertical-align: middle;\n",
              "    }\n",
              "\n",
              "    .dataframe tbody tr th {\n",
              "        vertical-align: top;\n",
              "    }\n",
              "\n",
              "    .dataframe thead th {\n",
              "        text-align: right;\n",
              "    }\n",
              "</style>\n",
              "<table border=\"1\" class=\"dataframe\">\n",
              "  <thead>\n",
              "    <tr style=\"text-align: right;\">\n",
              "      <th></th>\n",
              "      <th>id</th>\n",
              "      <th>comment_text</th>\n",
              "      <th>preprocess_text</th>\n",
              "      <th>remove_repeat</th>\n",
              "    </tr>\n",
              "  </thead>\n",
              "  <tbody>\n",
              "    <tr>\n",
              "      <th>0</th>\n",
              "      <td>00001cee341fdb12</td>\n",
              "      <td>Yo bitch Ja Rule is more succesful then you'll...</td>\n",
              "      <td>bitch rule succesful ever whats hating sad mof...</td>\n",
              "      <td>bitch rule succesful ever whats hating sad mof...</td>\n",
              "    </tr>\n",
              "    <tr>\n",
              "      <th>1</th>\n",
              "      <td>0000247867823ef7</td>\n",
              "      <td>== From RfC == \\n\\n The title is fine as it is...</td>\n",
              "      <td>rfc title fine imo</td>\n",
              "      <td>rfc title fine imo</td>\n",
              "    </tr>\n",
              "    <tr>\n",
              "      <th>2</th>\n",
              "      <td>00013b17ad220c46</td>\n",
              "      <td>\" \\n\\n == Sources == \\n\\n * Zawe Ashton on Lap...</td>\n",
              "      <td>sources zawe ashton lapland</td>\n",
              "      <td>sources zawe ashton lapland</td>\n",
              "    </tr>\n",
              "  </tbody>\n",
              "</table>\n",
              "</div>\n",
              "      <button class=\"colab-df-convert\" onclick=\"convertToInteractive('df-9df77cb4-d1c1-42a7-bb04-d906b397fcad')\"\n",
              "              title=\"Convert this dataframe to an interactive table.\"\n",
              "              style=\"display:none;\">\n",
              "        \n",
              "  <svg xmlns=\"http://www.w3.org/2000/svg\" height=\"24px\"viewBox=\"0 0 24 24\"\n",
              "       width=\"24px\">\n",
              "    <path d=\"M0 0h24v24H0V0z\" fill=\"none\"/>\n",
              "    <path d=\"M18.56 5.44l.94 2.06.94-2.06 2.06-.94-2.06-.94-.94-2.06-.94 2.06-2.06.94zm-11 1L8.5 8.5l.94-2.06 2.06-.94-2.06-.94L8.5 2.5l-.94 2.06-2.06.94zm10 10l.94 2.06.94-2.06 2.06-.94-2.06-.94-.94-2.06-.94 2.06-2.06.94z\"/><path d=\"M17.41 7.96l-1.37-1.37c-.4-.4-.92-.59-1.43-.59-.52 0-1.04.2-1.43.59L10.3 9.45l-7.72 7.72c-.78.78-.78 2.05 0 2.83L4 21.41c.39.39.9.59 1.41.59.51 0 1.02-.2 1.41-.59l7.78-7.78 2.81-2.81c.8-.78.8-2.07 0-2.86zM5.41 20L4 18.59l7.72-7.72 1.47 1.35L5.41 20z\"/>\n",
              "  </svg>\n",
              "      </button>\n",
              "      \n",
              "  <style>\n",
              "    .colab-df-container {\n",
              "      display:flex;\n",
              "      flex-wrap:wrap;\n",
              "      gap: 12px;\n",
              "    }\n",
              "\n",
              "    .colab-df-convert {\n",
              "      background-color: #E8F0FE;\n",
              "      border: none;\n",
              "      border-radius: 50%;\n",
              "      cursor: pointer;\n",
              "      display: none;\n",
              "      fill: #1967D2;\n",
              "      height: 32px;\n",
              "      padding: 0 0 0 0;\n",
              "      width: 32px;\n",
              "    }\n",
              "\n",
              "    .colab-df-convert:hover {\n",
              "      background-color: #E2EBFA;\n",
              "      box-shadow: 0px 1px 2px rgba(60, 64, 67, 0.3), 0px 1px 3px 1px rgba(60, 64, 67, 0.15);\n",
              "      fill: #174EA6;\n",
              "    }\n",
              "\n",
              "    [theme=dark] .colab-df-convert {\n",
              "      background-color: #3B4455;\n",
              "      fill: #D2E3FC;\n",
              "    }\n",
              "\n",
              "    [theme=dark] .colab-df-convert:hover {\n",
              "      background-color: #434B5C;\n",
              "      box-shadow: 0px 1px 3px 1px rgba(0, 0, 0, 0.15);\n",
              "      filter: drop-shadow(0px 1px 2px rgba(0, 0, 0, 0.3));\n",
              "      fill: #FFFFFF;\n",
              "    }\n",
              "  </style>\n",
              "\n",
              "      <script>\n",
              "        const buttonEl =\n",
              "          document.querySelector('#df-9df77cb4-d1c1-42a7-bb04-d906b397fcad button.colab-df-convert');\n",
              "        buttonEl.style.display =\n",
              "          google.colab.kernel.accessAllowed ? 'block' : 'none';\n",
              "\n",
              "        async function convertToInteractive(key) {\n",
              "          const element = document.querySelector('#df-9df77cb4-d1c1-42a7-bb04-d906b397fcad');\n",
              "          const dataTable =\n",
              "            await google.colab.kernel.invokeFunction('convertToInteractive',\n",
              "                                                     [key], {});\n",
              "          if (!dataTable) return;\n",
              "\n",
              "          const docLinkHtml = 'Like what you see? Visit the ' +\n",
              "            '<a target=\"_blank\" href=https://colab.research.google.com/notebooks/data_table.ipynb>data table notebook</a>'\n",
              "            + ' to learn more about interactive tables.';\n",
              "          element.innerHTML = '';\n",
              "          dataTable['output_type'] = 'display_data';\n",
              "          await google.colab.output.renderOutput(dataTable, element);\n",
              "          const docLink = document.createElement('div');\n",
              "          docLink.innerHTML = docLinkHtml;\n",
              "          element.appendChild(docLink);\n",
              "        }\n",
              "      </script>\n",
              "    </div>\n",
              "  </div>\n",
              "  "
            ]
          },
          "metadata": {}
        }
      ],
      "source": [
        "# Create and save a separate column for deduplication performance comparison\n",
        "train['remove_repeat'] = train['preprocess_text'].apply(remove_repeat)\n",
        "test['remove_repeat'] = test['preprocess_text'].apply(remove_repeat)\n",
        "\n",
        "display(train.head(3))\n",
        "display(test.head(3))"
      ]
    },
    {
      "cell_type": "code",
      "execution_count": 29,
      "id": "16e1ed66-d72c-4fa7-a5d7-78516151a763",
      "metadata": {
        "tags": [],
        "id": "16e1ed66-d72c-4fa7-a5d7-78516151a763",
        "outputId": "cb461326-8bb7-4ad2-ae06-ba969067dd85",
        "colab": {
          "base_uri": "https://localhost:8080/",
          "height": 326
        }
      },
      "outputs": [
        {
          "output_type": "display_data",
          "data": {
            "text/plain": [
              "<Figure size 432x288 with 2 Axes>"
            ],
            "image/png": "[encoded data removed]"
          },
          "metadata": {}
        }
      ],
      "source": [
        "# Correlation of columns - heatmap\n",
        "corr_matrix = train.corr()\n",
        "sns.heatmap(corr_matrix, cmap='Blues',annot=True)\n",
        "plt.show()"
      ]
    },
    {
      "cell_type": "markdown",
      "id": "3693c966-8c2f-4cac-ab17-e505bc35f50d",
      "metadata": {
        "id": "3693c966-8c2f-4cac-ab17-e505bc35f50d"
      },
      "source": [
        "# TFIDF vectorization\n",
        "- min_df : The minimum df value to vectorize (less than this value is not vectorized)\n",
        "- analyzer : \n",
        "    - 'word': units are words\n",
        "    - 'char': units are characters \n",
        "- sublinear_tf : Whether to smooth the word frequency (TF) of the document.\n",
        "- ngram_range : Set the range of n-grams, the basic unit for calculating frequencies\n",
        "- max_features : Maximum length of each vector\n",
        "    - If this value is not set, a very sparse matrix will be generated if there are many featrue (many words/tokens)."
      ]
    },
    {
      "cell_type": "markdown",
      "id": "1bc0ad38-6463-4f52-a463-eafeeccae06c",
      "metadata": {
        "id": "1bc0ad38-6463-4f52-a463-eafeeccae06c"
      },
      "source": [
        "## 1. Logistic Regression"
      ]
    },
    {
      "cell_type": "markdown",
      "id": "a6ae8205-2837-4ed0-bc89-81546fd1672a",
      "metadata": {
        "id": "a6ae8205-2837-4ed0-bc89-81546fd1672a"
      },
      "source": [
        "### 1.1 Training with text before repetition"
      ]
    },
    {
      "cell_type": "code",
      "execution_count": 37,
      "id": "7aa98ee8-8eef-4128-ae4d-618f0e4f4d76",
      "metadata": {
        "tags": [],
        "id": "7aa98ee8-8eef-4128-ae4d-618f0e4f4d76",
        "outputId": "493a8707-a203-45da-fedd-2777fbe6e364",
        "colab": {
          "base_uri": "https://localhost:8080/"
        }
      },
      "outputs": [
        {
          "output_type": "stream",
          "name": "stdout",
          "text": [
            "X_train len:  127656\n",
            "X_valid len:   31915\n"
          ]
        }
      ],
      "source": [
        "preprocess_text = train.preprocess_text\n",
        "\n",
        "vectorizer = TfidfVectorizer(max_features=5000)\n",
        "\n",
        "X = vectorizer.fit_transform(preprocess_text)\n",
        "y = train[target_cols]\n",
        "\n",
        "X_train, X_valid, y_train, y_valid = train_test_split(X, y, test_size=0.2, random_state=0)\n",
        "\n",
        "print('X_train len: ', X_train.shape[0])\n",
        "print('X_valid len:  ',  X_valid.shape[0])"
      ]
    },
    {
      "cell_type": "code",
      "execution_count": 38,
      "id": "4c41fb6b-daf5-4c22-afbe-8599344455d8",
      "metadata": {
        "tags": [],
        "id": "4c41fb6b-daf5-4c22-afbe-8599344455d8",
        "outputId": "d0e0f0f5-43de-47a7-f3b1-9a31bed50547",
        "colab": {
          "base_uri": "https://localhost:8080/"
        }
      },
      "outputs": [
        {
          "output_type": "stream",
          "name": "stdout",
          "text": [
            " \n",
            "----prediction of toxic column----\n",
            " \n",
            "Testing accuracy is 0.9571\n",
            " \n",
            "----prediction of severe_toxic column----\n",
            " \n",
            "Testing accuracy is 0.99\n",
            " \n",
            "----prediction of obscene column----\n",
            " \n",
            "Testing accuracy is 0.97735\n",
            " \n",
            "----prediction of threat column----\n",
            " \n",
            "Testing accuracy is 0.99727\n",
            " \n",
            "----prediction of insult column----\n",
            " \n",
            "Testing accuracy is 0.97026\n",
            " \n",
            "----prediction of identity_hate column----\n",
            " \n",
            "Testing accuracy is 0.99201\n"
          ]
        }
      ],
      "source": [
        "from collections import defaultdict\n",
        "accuracy_data = defaultdict(list)\n",
        "for col in target_cols:\n",
        "    print(' ')\n",
        "    print('----prediction of {} column----'.format(col))\n",
        "    print(' ')\n",
        "    y = y_train[col]\n",
        "    log_reg = LogisticRegression()\n",
        "    log_reg.fit(X_train,y)\n",
        "    y_pred_lr = log_reg.predict(X_valid)\n",
        "    print('Testing accuracy is {}'.format(round(accuracy_score(y_valid[col], y_pred_lr),5)))\n",
        "    accuracy_data[col].append(round(accuracy_score(y_valid[col], y_pred_lr),5))"
      ]
    },
    {
      "cell_type": "markdown",
      "id": "fac239f1-4d69-4db0-b06b-dd6512ae6c63",
      "metadata": {
        "id": "fac239f1-4d69-4db0-b06b-dd6512ae6c63"
      },
      "source": [
        "### 1.2 Training after removing repetitions"
      ]
    },
    {
      "cell_type": "code",
      "execution_count": 39,
      "id": "f126b2e9-5f76-4ca2-b985-29115a61e089",
      "metadata": {
        "tags": [],
        "id": "f126b2e9-5f76-4ca2-b985-29115a61e089",
        "outputId": "2383353c-918a-449f-f097-0364d4645aae",
        "colab": {
          "base_uri": "https://localhost:8080/"
        }
      },
      "outputs": [
        {
          "output_type": "stream",
          "name": "stdout",
          "text": [
            "X_train len:  127656\n",
            "X_valid len:   31915\n"
          ]
        }
      ],
      "source": [
        "remove_repeat_text = train.remove_repeat\n",
        "\n",
        "vectorizer2 = TfidfVectorizer(max_features=5000)\n",
        "\n",
        "X2 = vectorizer2.fit_transform(remove_repeat_text)\n",
        "y = train[target_cols]\n",
        "\n",
        "X_train2, X_valid2, y_train2, y_valid2 = train_test_split(X2, y, test_size=0.2, random_state=0)\n",
        "\n",
        "print('X_train len: ', X_train2.shape[0])\n",
        "print('X_valid len:  ',  X_valid2.shape[0])"
      ]
    },
    {
      "cell_type": "code",
      "execution_count": 40,
      "id": "648e4e6f-f13c-4771-8260-73ecba78b142",
      "metadata": {
        "tags": [],
        "id": "648e4e6f-f13c-4771-8260-73ecba78b142",
        "outputId": "8e258fef-03b9-4630-adfe-1de6ae67ee45",
        "colab": {
          "base_uri": "https://localhost:8080/"
        }
      },
      "outputs": [
        {
          "output_type": "stream",
          "name": "stdout",
          "text": [
            " \n",
            "----prediction of toxic column----\n",
            " \n",
            "Testing accuracy is 0.95598\n",
            " \n",
            "----prediction of severe_toxic column----\n",
            " \n",
            "Testing accuracy is 0.98985\n",
            " \n",
            "----prediction of obscene column----\n",
            " \n",
            "Testing accuracy is 0.97663\n",
            " \n",
            "----prediction of threat column----\n",
            " \n",
            "Testing accuracy is 0.99727\n",
            " \n",
            "----prediction of insult column----\n",
            " \n",
            "Testing accuracy is 0.96973\n",
            " \n",
            "----prediction of identity_hate column----\n",
            " \n",
            "Testing accuracy is 0.99157\n"
          ]
        }
      ],
      "source": [
        "# model2\n",
        "for col in target_cols:\n",
        "    print(' ')\n",
        "    print('----prediction of {} column----'.format(col))\n",
        "    print(' ')\n",
        "    y = y_train2[col]\n",
        "    log_reg2 = LogisticRegression()\n",
        "    log_reg2.fit(X_train2,y)\n",
        "    y_pred_lr2 = log_reg2.predict(X_valid2)\n",
        "    print('Testing accuracy is {}'.format(round(accuracy_score(y_valid2[col], y_pred_lr2),5)))\n",
        "    accuracy_data[col].append(round(accuracy_score(y_valid2[col], y_pred_lr2),5))"
      ]
    },
    {
      "cell_type": "code",
      "execution_count": 41,
      "id": "43171eb9-dd32-49ec-a9ef-c41d58467da8",
      "metadata": {
        "tags": [],
        "id": "43171eb9-dd32-49ec-a9ef-c41d58467da8",
        "outputId": "d6e57feb-e31e-4c96-81db-30a84ee32d31",
        "colab": {
          "base_uri": "https://localhost:8080/",
          "height": 111
        }
      },
      "outputs": [
        {
          "output_type": "execute_result",
          "data": {
            "text/plain": [
              "              toxic  severe_toxic  obscene   threat   insult  identity_hate\n",
              "allow_rep   0.95710       0.99000  0.97735  0.99727  0.97026        0.99201\n",
              "remove_rep  0.95598       0.98985  0.97663  0.99727  0.96973        0.99157"
            ],
            "text/html": [
              "\n",
              "  <div id=\"df-4241cf88-260e-480b-be37-a01c3e37fec3\">\n",
              "    <div class=\"colab-df-container\">\n",
              "      <div>\n",
              "<style scoped>\n",
              "    .dataframe tbody tr th:only-of-type {\n",
              "        vertical-align: middle;\n",
              "    }\n",
              "\n",
              "    .dataframe tbody tr th {\n",
              "        vertical-align: top;\n",
              "    }\n",
              "\n",
              "    .dataframe thead th {\n",
              "        text-align: right;\n",
              "    }\n",
              "</style>\n",
              "<table border=\"1\" class=\"dataframe\">\n",
              "  <thead>\n",
              "    <tr style=\"text-align: right;\">\n",
              "      <th></th>\n",
              "      <th>toxic</th>\n",
              "      <th>severe_toxic</th>\n",
              "      <th>obscene</th>\n",
              "      <th>threat</th>\n",
              "      <th>insult</th>\n",
              "      <th>identity_hate</th>\n",
              "    </tr>\n",
              "  </thead>\n",
              "  <tbody>\n",
              "    <tr>\n",
              "      <th>allow_rep</th>\n",
              "      <td>0.95710</td>\n",
              "      <td>0.99000</td>\n",
              "      <td>0.97735</td>\n",
              "      <td>0.99727</td>\n",
              "      <td>0.97026</td>\n",
              "      <td>0.99201</td>\n",
              "    </tr>\n",
              "    <tr>\n",
              "      <th>remove_rep</th>\n",
              "      <td>0.95598</td>\n",
              "      <td>0.98985</td>\n",
              "      <td>0.97663</td>\n",
              "      <td>0.99727</td>\n",
              "      <td>0.96973</td>\n",
              "      <td>0.99157</td>\n",
              "    </tr>\n",
              "  </tbody>\n",
              "</table>\n",
              "</div>\n",
              "      <button class=\"colab-df-convert\" onclick=\"convertToInteractive('df-4241cf88-260e-480b-be37-a01c3e37fec3')\"\n",
              "              title=\"Convert this dataframe to an interactive table.\"\n",
              "              style=\"display:none;\">\n",
              "        \n",
              "  <svg xmlns=\"http://www.w3.org/2000/svg\" height=\"24px\"viewBox=\"0 0 24 24\"\n",
              "       width=\"24px\">\n",
              "    <path d=\"M0 0h24v24H0V0z\" fill=\"none\"/>\n",
              "    <path d=\"M18.56 5.44l.94 2.06.94-2.06 2.06-.94-2.06-.94-.94-2.06-.94 2.06-2.06.94zm-11 1L8.5 8.5l.94-2.06 2.06-.94-2.06-.94L8.5 2.5l-.94 2.06-2.06.94zm10 10l.94 2.06.94-2.06 2.06-.94-2.06-.94-.94-2.06-.94 2.06-2.06.94z\"/><path d=\"M17.41 7.96l-1.37-1.37c-.4-.4-.92-.59-1.43-.59-.52 0-1.04.2-1.43.59L10.3 9.45l-7.72 7.72c-.78.78-.78 2.05 0 2.83L4 21.41c.39.39.9.59 1.41.59.51 0 1.02-.2 1.41-.59l7.78-7.78 2.81-2.81c.8-.78.8-2.07 0-2.86zM5.41 20L4 18.59l7.72-7.72 1.47 1.35L5.41 20z\"/>\n",
              "  </svg>\n",
              "      </button>\n",
              "      \n",
              "  <style>\n",
              "    .colab-df-container {\n",
              "      display:flex;\n",
              "      flex-wrap:wrap;\n",
              "      gap: 12px;\n",
              "    }\n",
              "\n",
              "    .colab-df-convert {\n",
              "      background-color: #E8F0FE;\n",
              "      border: none;\n",
              "      border-radius: 50%;\n",
              "      cursor: pointer;\n",
              "      display: none;\n",
              "      fill: #1967D2;\n",
              "      height: 32px;\n",
              "      padding: 0 0 0 0;\n",
              "      width: 32px;\n",
              "    }\n",
              "\n",
              "    .colab-df-convert:hover {\n",
              "      background-color: #E2EBFA;\n",
              "      box-shadow: 0px 1px 2px rgba(60, 64, 67, 0.3), 0px 1px 3px 1px rgba(60, 64, 67, 0.15);\n",
              "      fill: #174EA6;\n",
              "    }\n",
              "\n",
              "    [theme=dark] .colab-df-convert {\n",
              "      background-color: #3B4455;\n",
              "      fill: #D2E3FC;\n",
              "    }\n",
              "\n",
              "    [theme=dark] .colab-df-convert:hover {\n",
              "      background-color: #434B5C;\n",
              "      box-shadow: 0px 1px 3px 1px rgba(0, 0, 0, 0.15);\n",
              "      filter: drop-shadow(0px 1px 2px rgba(0, 0, 0, 0.3));\n",
              "      fill: #FFFFFF;\n",
              "    }\n",
              "  </style>\n",
              "\n",
              "      <script>\n",
              "        const buttonEl =\n",
              "          document.querySelector('#df-4241cf88-260e-480b-be37-a01c3e37fec3 button.colab-df-convert');\n",
              "        buttonEl.style.display =\n",
              "          google.colab.kernel.accessAllowed ? 'block' : 'none';\n",
              "\n",
              "        async function convertToInteractive(key) {\n",
              "          const element = document.querySelector('#df-4241cf88-260e-480b-be37-a01c3e37fec3');\n",
              "          const dataTable =\n",
              "            await google.colab.kernel.invokeFunction('convertToInteractive',\n",
              "                                                     [key], {});\n",
              "          if (!dataTable) return;\n",
              "\n",
              "          const docLinkHtml = 'Like what you see? Visit the ' +\n",
              "            '<a target=\"_blank\" href=https://colab.research.google.com/notebooks/data_table.ipynb>data table notebook</a>'\n",
              "            + ' to learn more about interactive tables.';\n",
              "          element.innerHTML = '';\n",
              "          dataTable['output_type'] = 'display_data';\n",
              "          await google.colab.output.renderOutput(dataTable, element);\n",
              "          const docLink = document.createElement('div');\n",
              "          docLink.innerHTML = docLinkHtml;\n",
              "          element.appendChild(docLink);\n",
              "        }\n",
              "      </script>\n",
              "    </div>\n",
              "  </div>\n",
              "  "
            ]
          },
          "metadata": {},
          "execution_count": 41
        }
      ],
      "source": [
        "tmp = pd.DataFrame(accuracy_data, index=['allow_rep','remove_rep'])\n",
        "tmp"
      ]
    },
    {
      "cell_type": "markdown",
      "id": "5373d57d-f3b5-4d33-b10c-11f87817f66c",
      "metadata": {
        "id": "5373d57d-f3b5-4d33-b10c-11f87817f66c"
      },
      "source": [
        "## 2a. Decision Tree Classification"
      ]
    },
    {
      "cell_type": "markdown",
      "id": "1701d93c-2bc3-4c22-8ebe-c4fc3bbc8c9a",
      "metadata": {
        "id": "1701d93c-2bc3-4c22-8ebe-c4fc3bbc8c9a"
      },
      "source": [
        "2a.1 Training with text before repetition"
      ]
    },
    {
      "cell_type": "code",
      "execution_count": 42,
      "id": "a7cdb750-1d18-4c4d-8d44-1ff2007af1f2",
      "metadata": {
        "id": "a7cdb750-1d18-4c4d-8d44-1ff2007af1f2",
        "outputId": "5fb57107-e50c-4159-9cf6-3a3884b58430",
        "colab": {
          "base_uri": "https://localhost:8080/"
        }
      },
      "outputs": [
        {
          "output_type": "stream",
          "name": "stdout",
          "text": [
            " \n",
            "----prediction of toxic column----\n",
            " \n",
            "Testing accuracy is 0.93285\n",
            " \n",
            "----prediction of severe_toxic column----\n",
            " \n",
            "Testing accuracy is 0.98963\n",
            " \n",
            "----prediction of obscene column----\n",
            " \n",
            "Testing accuracy is 0.97099\n",
            " \n",
            "----prediction of threat column----\n",
            " \n",
            "Testing accuracy is 0.99715\n",
            " \n",
            "----prediction of insult column----\n",
            " \n",
            "Testing accuracy is 0.96494\n",
            " \n",
            "----prediction of identity_hate column----\n",
            " \n",
            "Testing accuracy is 0.99176\n"
          ]
        }
      ],
      "source": [
        "for col in target_cols:\n",
        "    print(' ')\n",
        "    print('----prediction of {} column----'.format(col))\n",
        "    print(' ')\n",
        "    y = y_train[col]\n",
        "    dtree = DecisionTreeClassifier(criterion='gini', max_depth=5, random_state=0)\n",
        "    dtree.fit(X_train,y)\n",
        "    y_pred_dt = dtree.predict(X_valid)\n",
        "    print('Testing accuracy is {}'.format(round(accuracy_score(y_valid[col], y_pred_dt),5)))\n",
        "    accuracy_data[col].append(round(accuracy_score(y_valid[col], y_pred_dt),5))"
      ]
    },
    {
      "cell_type": "markdown",
      "id": "1585b25c-955b-4ab2-8b9a-67a441d7c779",
      "metadata": {
        "id": "1585b25c-955b-4ab2-8b9a-67a441d7c779"
      },
      "source": [
        "### 2a.2 Training after removing repetitions"
      ]
    },
    {
      "cell_type": "code",
      "execution_count": 43,
      "id": "0bbd0044-304e-4209-97f6-f55de7ba2730",
      "metadata": {
        "id": "0bbd0044-304e-4209-97f6-f55de7ba2730",
        "outputId": "9683a248-9d43-4b5c-ab77-ee2463d8f243",
        "colab": {
          "base_uri": "https://localhost:8080/"
        }
      },
      "outputs": [
        {
          "output_type": "stream",
          "name": "stdout",
          "text": [
            " \n",
            "----prediction of toxic column----\n",
            " \n",
            "Testing accuracy is 0.93304\n",
            " \n",
            "----prediction of severe_toxic column----\n",
            " \n",
            "Testing accuracy is 0.98966\n",
            " \n",
            "----prediction of obscene column----\n",
            " \n",
            "Testing accuracy is 0.97146\n",
            " \n",
            "----prediction of threat column----\n",
            " \n",
            "Testing accuracy is 0.99696\n",
            " \n",
            "----prediction of insult column----\n",
            " \n",
            "Testing accuracy is 0.96475\n",
            " \n",
            "----prediction of identity_hate column----\n",
            " \n",
            "Testing accuracy is 0.99138\n"
          ]
        }
      ],
      "source": [
        "for col in target_cols:\n",
        "    print(' ')\n",
        "    print('----prediction of {} column----'.format(col))\n",
        "    print(' ')\n",
        "    y = y_train2[col]\n",
        "    dtree2 = DecisionTreeClassifier(criterion='gini', max_depth=5, random_state=0)\n",
        "    dtree2.fit(X_train2,y)\n",
        "    y_pred_dt2 = dtree2.predict(X_valid2)\n",
        "    print('Testing accuracy is {}'.format(round(accuracy_score(y_valid2[col], y_pred_dt2),5)))\n",
        "    accuracy_data[col].append(round(accuracy_score(y_valid2[col], y_pred_dt2),5))"
      ]
    },
    {
      "cell_type": "markdown",
      "id": "7c810eb5-2f60-418d-a9ae-03a10934238b",
      "metadata": {
        "id": "7c810eb5-2f60-418d-a9ae-03a10934238b"
      },
      "source": [
        "## 2b. Random Forest Classification"
      ]
    },
    {
      "cell_type": "markdown",
      "id": "cc56b65b-46b0-4aef-83b0-f524a75f6ea7",
      "metadata": {
        "id": "cc56b65b-46b0-4aef-83b0-f524a75f6ea7"
      },
      "source": [
        "### 2b.1 Training with text before repetition"
      ]
    },
    {
      "cell_type": "code",
      "execution_count": 44,
      "id": "fa010eb5-8125-4103-9f2d-b04acdd00117",
      "metadata": {
        "colab": {
          "base_uri": "https://localhost:8080/"
        },
        "id": "fa010eb5-8125-4103-9f2d-b04acdd00117",
        "outputId": "97b4de5f-e57e-45c8-f50b-69f16ceb17ec"
      },
      "outputs": [
        {
          "output_type": "stream",
          "name": "stdout",
          "text": [
            " \n",
            "----prediction of toxic column----\n",
            " \n",
            "Testing accuracy is 0.94965\n",
            " \n",
            "----prediction of severe_toxic column----\n",
            " \n",
            "Testing accuracy is 0.98916\n",
            " \n",
            "----prediction of obscene column----\n",
            " \n",
            "Testing accuracy is 0.9755\n",
            " \n",
            "----prediction of threat column----\n",
            " \n",
            "Testing accuracy is 0.99709\n",
            " \n",
            "----prediction of insult column----\n",
            " \n",
            "Testing accuracy is 0.9645\n",
            " \n",
            "----prediction of identity_hate column----\n",
            " \n",
            "Testing accuracy is 0.99126\n"
          ]
        }
      ],
      "source": [
        "for col in target_cols:\n",
        "    print(' ')\n",
        "    print('----prediction of {} column----'.format(col))\n",
        "    print(' ')\n",
        "    y = y_train[col]\n",
        "    random_forest = RandomForestClassifier(criterion='gini', n_estimators=5, n_jobs=2, random_state=0)\n",
        "    random_forest.fit(X_train,y)\n",
        "    y_pred_rf = random_forest.predict(X_valid)\n",
        "    print('Testing accuracy is {}'.format(round(accuracy_score(y_valid[col], y_pred_rf),5)))\n",
        "    accuracy_data[col].append(round(accuracy_score(y_valid[col], y_pred_rf),5))"
      ]
    },
    {
      "cell_type": "markdown",
      "id": "4282ea10-4ff8-4129-8041-5d112c5fca10",
      "metadata": {
        "id": "4282ea10-4ff8-4129-8041-5d112c5fca10"
      },
      "source": [
        "### 2b.2 Training after removing repetitions"
      ]
    },
    {
      "cell_type": "code",
      "execution_count": 45,
      "id": "695d3cb1-babd-4ca7-b931-d7b691df824e",
      "metadata": {
        "id": "695d3cb1-babd-4ca7-b931-d7b691df824e",
        "outputId": "b35ad5ef-a5a1-4edd-9ea6-eb14448cc88c",
        "colab": {
          "base_uri": "https://localhost:8080/"
        }
      },
      "outputs": [
        {
          "output_type": "stream",
          "name": "stdout",
          "text": [
            " \n",
            "----prediction of toxic column----\n",
            " \n",
            "Testing accuracy is 0.89964\n",
            " \n",
            "----prediction of severe_toxic column----\n",
            " \n",
            "Testing accuracy is 0.98587\n",
            " \n",
            "----prediction of obscene column----\n",
            " \n",
            "Testing accuracy is 0.94316\n",
            " \n",
            "----prediction of threat column----\n",
            " \n",
            "Testing accuracy is 0.9932\n",
            " \n",
            "----prediction of insult column----\n",
            " \n",
            "Testing accuracy is 0.94636\n",
            " \n",
            "----prediction of identity_hate column----\n",
            " \n",
            "Testing accuracy is 0.9869\n"
          ]
        }
      ],
      "source": [
        "for col in target_cols:\n",
        "    print(' ')\n",
        "    print('----prediction of {} column----'.format(col))\n",
        "    print(' ')\n",
        "    y = y_train2[col]\n",
        "    random_forest2 = RandomForestClassifier(criterion='gini', n_estimators=5, n_jobs=2, random_state=0)\n",
        "    random_forest2.fit(X_train2,y)\n",
        "    y_pred_rf2 = random_forest.predict(X_valid2)\n",
        "    print('Testing accuracy is {}'.format(round(accuracy_score(y_valid2[col], y_pred_rf2),5)))\n",
        "    accuracy_data[col].append(round(accuracy_score(y_valid2[col], y_pred_rf2),5))"
      ]
    },
    {
      "cell_type": "markdown",
      "source": [
        "### Train Test Split"
      ],
      "metadata": {
        "id": "xIDRygmdvQK0"
      },
      "id": "xIDRygmdvQK0"
    },
    {
      "cell_type": "code",
      "source": [
        "print(train.info())"
      ],
      "metadata": {
        "colab": {
          "base_uri": "https://localhost:8080/"
        },
        "id": "lZuoe-MPvVNN",
        "outputId": "58d9ffb0-e917-4cbe-a113-8ce1109151bc"
      },
      "id": "lZuoe-MPvVNN",
      "execution_count": null,
      "outputs": [
        {
          "output_type": "stream",
          "name": "stdout",
          "text": [
            "<class 'pandas.core.frame.DataFrame'>\n",
            "RangeIndex: 159571 entries, 0 to 159570\n",
            "Data columns (total 13 columns):\n",
            " #   Column           Non-Null Count   Dtype \n",
            "---  ------           --------------   ----- \n",
            " 0   id               159571 non-null  object\n",
            " 1   comment_text     159571 non-null  object\n",
            " 2   toxic            159571 non-null  int64 \n",
            " 3   severe_toxic     159571 non-null  int64 \n",
            " 4   obscene          159571 non-null  int64 \n",
            " 5   threat           159571 non-null  int64 \n",
            " 6   insult           159571 non-null  int64 \n",
            " 7   identity_hate    159571 non-null  int64 \n",
            " 8   sum_harmful      159571 non-null  int64 \n",
            " 9   len_of_text      159571 non-null  int64 \n",
            " 10  preprocess_text  159571 non-null  object\n",
            " 11  num_of_word      159571 non-null  int64 \n",
            " 12  remove_repeat    159571 non-null  object\n",
            "dtypes: int64(9), object(4)\n",
            "memory usage: 15.8+ MB\n",
            "None\n"
          ]
        }
      ]
    },
    {
      "cell_type": "code",
      "source": [
        "print(train.columns)"
      ],
      "metadata": {
        "colab": {
          "base_uri": "https://localhost:8080/"
        },
        "id": "T1DRPjtk-3Zb",
        "outputId": "06c4fb4a-9d52-4783-939a-baa26364904b"
      },
      "id": "T1DRPjtk-3Zb",
      "execution_count": null,
      "outputs": [
        {
          "output_type": "stream",
          "name": "stdout",
          "text": [
            "Index(['id', 'comment_text', 'toxic', 'severe_toxic', 'obscene', 'threat',\n",
            "       'insult', 'identity_hate', 'sum_harmful', 'len_of_text',\n",
            "       'preprocess_text', 'num_of_word', 'remove_repeat'],\n",
            "      dtype='object')\n"
          ]
        }
      ]
    },
    {
      "cell_type": "code",
      "source": [
        "X = train.iloc[:,-3:-2]\n",
        "X"
      ],
      "metadata": {
        "colab": {
          "base_uri": "https://localhost:8080/",
          "height": 424
        },
        "id": "4C7hmwJOAOQa",
        "outputId": "5f1bae38-5177-4806-d1a6-2146fa4c5075"
      },
      "id": "4C7hmwJOAOQa",
      "execution_count": null,
      "outputs": [
        {
          "output_type": "execute_result",
          "data": {
            "text/plain": [
              "                                          preprocess_text\n",
              "0       explanation edits made username hardcore metal...\n",
              "1       aww matches background colour seemingly stuck ...\n",
              "2       hey man really trying edit war guy constantly ...\n",
              "3       make real suggestions improvement wondered sec...\n",
              "4                                sir hero chance remember\n",
              "...                                                   ...\n",
              "159566  second time asking view completely contradicts...\n",
              "159567                         ashamed horrible thing put\n",
              "159568  spitzer umm theres actual prostitution ring cr...\n",
              "159569  looks actually put speedy first version delete...\n",
              "159570  really understand came idea bad right away kin...\n",
              "\n",
              "[159571 rows x 1 columns]"
            ],
            "text/html": [
              "\n",
              "  <div id=\"df-97897e81-80da-4342-9be4-9fd9c893324f\">\n",
              "    <div class=\"colab-df-container\">\n",
              "      <div>\n",
              "<style scoped>\n",
              "    .dataframe tbody tr th:only-of-type {\n",
              "        vertical-align: middle;\n",
              "    }\n",
              "\n",
              "    .dataframe tbody tr th {\n",
              "        vertical-align: top;\n",
              "    }\n",
              "\n",
              "    .dataframe thead th {\n",
              "        text-align: right;\n",
              "    }\n",
              "</style>\n",
              "<table border=\"1\" class=\"dataframe\">\n",
              "  <thead>\n",
              "    <tr style=\"text-align: right;\">\n",
              "      <th></th>\n",
              "      <th>preprocess_text</th>\n",
              "    </tr>\n",
              "  </thead>\n",
              "  <tbody>\n",
              "    <tr>\n",
              "      <th>0</th>\n",
              "      <td>explanation edits made username hardcore metal...</td>\n",
              "    </tr>\n",
              "    <tr>\n",
              "      <th>1</th>\n",
              "      <td>aww matches background colour seemingly stuck ...</td>\n",
              "    </tr>\n",
              "    <tr>\n",
              "      <th>2</th>\n",
              "      <td>hey man really trying edit war guy constantly ...</td>\n",
              "    </tr>\n",
              "    <tr>\n",
              "      <th>3</th>\n",
              "      <td>make real suggestions improvement wondered sec...</td>\n",
              "    </tr>\n",
              "    <tr>\n",
              "      <th>4</th>\n",
              "      <td>sir hero chance remember</td>\n",
              "    </tr>\n",
              "    <tr>\n",
              "      <th>...</th>\n",
              "      <td>...</td>\n",
              "    </tr>\n",
              "    <tr>\n",
              "      <th>159566</th>\n",
              "      <td>second time asking view completely contradicts...</td>\n",
              "    </tr>\n",
              "    <tr>\n",
              "      <th>159567</th>\n",
              "      <td>ashamed horrible thing put</td>\n",
              "    </tr>\n",
              "    <tr>\n",
              "      <th>159568</th>\n",
              "      <td>spitzer umm theres actual prostitution ring cr...</td>\n",
              "    </tr>\n",
              "    <tr>\n",
              "      <th>159569</th>\n",
              "      <td>looks actually put speedy first version delete...</td>\n",
              "    </tr>\n",
              "    <tr>\n",
              "      <th>159570</th>\n",
              "      <td>really understand came idea bad right away kin...</td>\n",
              "    </tr>\n",
              "  </tbody>\n",
              "</table>\n",
              "<p>159571 rows × 1 columns</p>\n",
              "</div>\n",
              "      <button class=\"colab-df-convert\" onclick=\"convertToInteractive('df-97897e81-80da-4342-9be4-9fd9c893324f')\"\n",
              "              title=\"Convert this dataframe to an interactive table.\"\n",
              "              style=\"display:none;\">\n",
              "        \n",
              "  <svg xmlns=\"http://www.w3.org/2000/svg\" height=\"24px\"viewBox=\"0 0 24 24\"\n",
              "       width=\"24px\">\n",
              "    <path d=\"M0 0h24v24H0V0z\" fill=\"none\"/>\n",
              "    <path d=\"M18.56 5.44l.94 2.06.94-2.06 2.06-.94-2.06-.94-.94-2.06-.94 2.06-2.06.94zm-11 1L8.5 8.5l.94-2.06 2.06-.94-2.06-.94L8.5 2.5l-.94 2.06-2.06.94zm10 10l.94 2.06.94-2.06 2.06-.94-2.06-.94-.94-2.06-.94 2.06-2.06.94z\"/><path d=\"M17.41 7.96l-1.37-1.37c-.4-.4-.92-.59-1.43-.59-.52 0-1.04.2-1.43.59L10.3 9.45l-7.72 7.72c-.78.78-.78 2.05 0 2.83L4 21.41c.39.39.9.59 1.41.59.51 0 1.02-.2 1.41-.59l7.78-7.78 2.81-2.81c.8-.78.8-2.07 0-2.86zM5.41 20L4 18.59l7.72-7.72 1.47 1.35L5.41 20z\"/>\n",
              "  </svg>\n",
              "      </button>\n",
              "      \n",
              "  <style>\n",
              "    .colab-df-container {\n",
              "      display:flex;\n",
              "      flex-wrap:wrap;\n",
              "      gap: 12px;\n",
              "    }\n",
              "\n",
              "    .colab-df-convert {\n",
              "      background-color: #E8F0FE;\n",
              "      border: none;\n",
              "      border-radius: 50%;\n",
              "      cursor: pointer;\n",
              "      display: none;\n",
              "      fill: #1967D2;\n",
              "      height: 32px;\n",
              "      padding: 0 0 0 0;\n",
              "      width: 32px;\n",
              "    }\n",
              "\n",
              "    .colab-df-convert:hover {\n",
              "      background-color: #E2EBFA;\n",
              "      box-shadow: 0px 1px 2px rgba(60, 64, 67, 0.3), 0px 1px 3px 1px rgba(60, 64, 67, 0.15);\n",
              "      fill: #174EA6;\n",
              "    }\n",
              "\n",
              "    [theme=dark] .colab-df-convert {\n",
              "      background-color: #3B4455;\n",
              "      fill: #D2E3FC;\n",
              "    }\n",
              "\n",
              "    [theme=dark] .colab-df-convert:hover {\n",
              "      background-color: #434B5C;\n",
              "      box-shadow: 0px 1px 3px 1px rgba(0, 0, 0, 0.15);\n",
              "      filter: drop-shadow(0px 1px 2px rgba(0, 0, 0, 0.3));\n",
              "      fill: #FFFFFF;\n",
              "    }\n",
              "  </style>\n",
              "\n",
              "      <script>\n",
              "        const buttonEl =\n",
              "          document.querySelector('#df-97897e81-80da-4342-9be4-9fd9c893324f button.colab-df-convert');\n",
              "        buttonEl.style.display =\n",
              "          google.colab.kernel.accessAllowed ? 'block' : 'none';\n",
              "\n",
              "        async function convertToInteractive(key) {\n",
              "          const element = document.querySelector('#df-97897e81-80da-4342-9be4-9fd9c893324f');\n",
              "          const dataTable =\n",
              "            await google.colab.kernel.invokeFunction('convertToInteractive',\n",
              "                                                     [key], {});\n",
              "          if (!dataTable) return;\n",
              "\n",
              "          const docLinkHtml = 'Like what you see? Visit the ' +\n",
              "            '<a target=\"_blank\" href=https://colab.research.google.com/notebooks/data_table.ipynb>data table notebook</a>'\n",
              "            + ' to learn more about interactive tables.';\n",
              "          element.innerHTML = '';\n",
              "          dataTable['output_type'] = 'display_data';\n",
              "          await google.colab.output.renderOutput(dataTable, element);\n",
              "          const docLink = document.createElement('div');\n",
              "          docLink.innerHTML = docLinkHtml;\n",
              "          element.appendChild(docLink);\n",
              "        }\n",
              "      </script>\n",
              "    </div>\n",
              "  </div>\n",
              "  "
            ]
          },
          "metadata": {},
          "execution_count": 68
        }
      ]
    },
    {
      "cell_type": "code",
      "source": [
        "y = train.iloc[:,2:8]\n",
        "y"
      ],
      "metadata": {
        "colab": {
          "base_uri": "https://localhost:8080/",
          "height": 424
        },
        "id": "DkKtLxpU_Zfc",
        "outputId": "91d53971-5212-4b4a-d154-daf67aa36c7a"
      },
      "id": "DkKtLxpU_Zfc",
      "execution_count": null,
      "outputs": [
        {
          "output_type": "execute_result",
          "data": {
            "text/plain": [
              "        toxic  severe_toxic  obscene  threat  insult  identity_hate\n",
              "0           0             0        0       0       0              0\n",
              "1           0             0        0       0       0              0\n",
              "2           0             0        0       0       0              0\n",
              "3           0             0        0       0       0              0\n",
              "4           0             0        0       0       0              0\n",
              "...       ...           ...      ...     ...     ...            ...\n",
              "159566      0             0        0       0       0              0\n",
              "159567      0             0        0       0       0              0\n",
              "159568      0             0        0       0       0              0\n",
              "159569      0             0        0       0       0              0\n",
              "159570      0             0        0       0       0              0\n",
              "\n",
              "[159571 rows x 6 columns]"
            ],
            "text/html": [
              "\n",
              "  <div id=\"df-37d8c6e5-fd41-41c5-a57c-d6b2398b38c6\">\n",
              "    <div class=\"colab-df-container\">\n",
              "      <div>\n",
              "<style scoped>\n",
              "    .dataframe tbody tr th:only-of-type {\n",
              "        vertical-align: middle;\n",
              "    }\n",
              "\n",
              "    .dataframe tbody tr th {\n",
              "        vertical-align: top;\n",
              "    }\n",
              "\n",
              "    .dataframe thead th {\n",
              "        text-align: right;\n",
              "    }\n",
              "</style>\n",
              "<table border=\"1\" class=\"dataframe\">\n",
              "  <thead>\n",
              "    <tr style=\"text-align: right;\">\n",
              "      <th></th>\n",
              "      <th>toxic</th>\n",
              "      <th>severe_toxic</th>\n",
              "      <th>obscene</th>\n",
              "      <th>threat</th>\n",
              "      <th>insult</th>\n",
              "      <th>identity_hate</th>\n",
              "    </tr>\n",
              "  </thead>\n",
              "  <tbody>\n",
              "    <tr>\n",
              "      <th>0</th>\n",
              "      <td>0</td>\n",
              "      <td>0</td>\n",
              "      <td>0</td>\n",
              "      <td>0</td>\n",
              "      <td>0</td>\n",
              "      <td>0</td>\n",
              "    </tr>\n",
              "    <tr>\n",
              "      <th>1</th>\n",
              "      <td>0</td>\n",
              "      <td>0</td>\n",
              "      <td>0</td>\n",
              "      <td>0</td>\n",
              "      <td>0</td>\n",
              "      <td>0</td>\n",
              "    </tr>\n",
              "    <tr>\n",
              "      <th>2</th>\n",
              "      <td>0</td>\n",
              "      <td>0</td>\n",
              "      <td>0</td>\n",
              "      <td>0</td>\n",
              "      <td>0</td>\n",
              "      <td>0</td>\n",
              "    </tr>\n",
              "    <tr>\n",
              "      <th>3</th>\n",
              "      <td>0</td>\n",
              "      <td>0</td>\n",
              "      <td>0</td>\n",
              "      <td>0</td>\n",
              "      <td>0</td>\n",
              "      <td>0</td>\n",
              "    </tr>\n",
              "    <tr>\n",
              "      <th>4</th>\n",
              "      <td>0</td>\n",
              "      <td>0</td>\n",
              "      <td>0</td>\n",
              "      <td>0</td>\n",
              "      <td>0</td>\n",
              "      <td>0</td>\n",
              "    </tr>\n",
              "    <tr>\n",
              "      <th>...</th>\n",
              "      <td>...</td>\n",
              "      <td>...</td>\n",
              "      <td>...</td>\n",
              "      <td>...</td>\n",
              "      <td>...</td>\n",
              "      <td>...</td>\n",
              "    </tr>\n",
              "    <tr>\n",
              "      <th>159566</th>\n",
              "      <td>0</td>\n",
              "      <td>0</td>\n",
              "      <td>0</td>\n",
              "      <td>0</td>\n",
              "      <td>0</td>\n",
              "      <td>0</td>\n",
              "    </tr>\n",
              "    <tr>\n",
              "      <th>159567</th>\n",
              "      <td>0</td>\n",
              "      <td>0</td>\n",
              "      <td>0</td>\n",
              "      <td>0</td>\n",
              "      <td>0</td>\n",
              "      <td>0</td>\n",
              "    </tr>\n",
              "    <tr>\n",
              "      <th>159568</th>\n",
              "      <td>0</td>\n",
              "      <td>0</td>\n",
              "      <td>0</td>\n",
              "      <td>0</td>\n",
              "      <td>0</td>\n",
              "      <td>0</td>\n",
              "    </tr>\n",
              "    <tr>\n",
              "      <th>159569</th>\n",
              "      <td>0</td>\n",
              "      <td>0</td>\n",
              "      <td>0</td>\n",
              "      <td>0</td>\n",
              "      <td>0</td>\n",
              "      <td>0</td>\n",
              "    </tr>\n",
              "    <tr>\n",
              "      <th>159570</th>\n",
              "      <td>0</td>\n",
              "      <td>0</td>\n",
              "      <td>0</td>\n",
              "      <td>0</td>\n",
              "      <td>0</td>\n",
              "      <td>0</td>\n",
              "    </tr>\n",
              "  </tbody>\n",
              "</table>\n",
              "<p>159571 rows × 6 columns</p>\n",
              "</div>\n",
              "      <button class=\"colab-df-convert\" onclick=\"convertToInteractive('df-37d8c6e5-fd41-41c5-a57c-d6b2398b38c6')\"\n",
              "              title=\"Convert this dataframe to an interactive table.\"\n",
              "              style=\"display:none;\">\n",
              "        \n",
              "  <svg xmlns=\"http://www.w3.org/2000/svg\" height=\"24px\"viewBox=\"0 0 24 24\"\n",
              "       width=\"24px\">\n",
              "    <path d=\"M0 0h24v24H0V0z\" fill=\"none\"/>\n",
              "    <path d=\"M18.56 5.44l.94 2.06.94-2.06 2.06-.94-2.06-.94-.94-2.06-.94 2.06-2.06.94zm-11 1L8.5 8.5l.94-2.06 2.06-.94-2.06-.94L8.5 2.5l-.94 2.06-2.06.94zm10 10l.94 2.06.94-2.06 2.06-.94-2.06-.94-.94-2.06-.94 2.06-2.06.94z\"/><path d=\"M17.41 7.96l-1.37-1.37c-.4-.4-.92-.59-1.43-.59-.52 0-1.04.2-1.43.59L10.3 9.45l-7.72 7.72c-.78.78-.78 2.05 0 2.83L4 21.41c.39.39.9.59 1.41.59.51 0 1.02-.2 1.41-.59l7.78-7.78 2.81-2.81c.8-.78.8-2.07 0-2.86zM5.41 20L4 18.59l7.72-7.72 1.47 1.35L5.41 20z\"/>\n",
              "  </svg>\n",
              "      </button>\n",
              "      \n",
              "  <style>\n",
              "    .colab-df-container {\n",
              "      display:flex;\n",
              "      flex-wrap:wrap;\n",
              "      gap: 12px;\n",
              "    }\n",
              "\n",
              "    .colab-df-convert {\n",
              "      background-color: #E8F0FE;\n",
              "      border: none;\n",
              "      border-radius: 50%;\n",
              "      cursor: pointer;\n",
              "      display: none;\n",
              "      fill: #1967D2;\n",
              "      height: 32px;\n",
              "      padding: 0 0 0 0;\n",
              "      width: 32px;\n",
              "    }\n",
              "\n",
              "    .colab-df-convert:hover {\n",
              "      background-color: #E2EBFA;\n",
              "      box-shadow: 0px 1px 2px rgba(60, 64, 67, 0.3), 0px 1px 3px 1px rgba(60, 64, 67, 0.15);\n",
              "      fill: #174EA6;\n",
              "    }\n",
              "\n",
              "    [theme=dark] .colab-df-convert {\n",
              "      background-color: #3B4455;\n",
              "      fill: #D2E3FC;\n",
              "    }\n",
              "\n",
              "    [theme=dark] .colab-df-convert:hover {\n",
              "      background-color: #434B5C;\n",
              "      box-shadow: 0px 1px 3px 1px rgba(0, 0, 0, 0.15);\n",
              "      filter: drop-shadow(0px 1px 2px rgba(0, 0, 0, 0.3));\n",
              "      fill: #FFFFFF;\n",
              "    }\n",
              "  </style>\n",
              "\n",
              "      <script>\n",
              "        const buttonEl =\n",
              "          document.querySelector('#df-37d8c6e5-fd41-41c5-a57c-d6b2398b38c6 button.colab-df-convert');\n",
              "        buttonEl.style.display =\n",
              "          google.colab.kernel.accessAllowed ? 'block' : 'none';\n",
              "\n",
              "        async function convertToInteractive(key) {\n",
              "          const element = document.querySelector('#df-37d8c6e5-fd41-41c5-a57c-d6b2398b38c6');\n",
              "          const dataTable =\n",
              "            await google.colab.kernel.invokeFunction('convertToInteractive',\n",
              "                                                     [key], {});\n",
              "          if (!dataTable) return;\n",
              "\n",
              "          const docLinkHtml = 'Like what you see? Visit the ' +\n",
              "            '<a target=\"_blank\" href=https://colab.research.google.com/notebooks/data_table.ipynb>data table notebook</a>'\n",
              "            + ' to learn more about interactive tables.';\n",
              "          element.innerHTML = '';\n",
              "          dataTable['output_type'] = 'display_data';\n",
              "          await google.colab.output.renderOutput(dataTable, element);\n",
              "          const docLink = document.createElement('div');\n",
              "          docLink.innerHTML = docLinkHtml;\n",
              "          element.appendChild(docLink);\n",
              "        }\n",
              "      </script>\n",
              "    </div>\n",
              "  </div>\n",
              "  "
            ]
          },
          "metadata": {},
          "execution_count": 66
        }
      ]
    },
    {
      "cell_type": "code",
      "source": [
        "X_train, X_test, y_train, y_test = train_test_split(X, y, test_size=0.33, random_state=42)\n",
        "print(X_train.shape)\n",
        "print(y_train.shape)\n",
        "print(X_test.shape)\n",
        "print(y_test.shape)"
      ],
      "metadata": {
        "colab": {
          "base_uri": "https://localhost:8080/"
        },
        "id": "eKX--JjIAeBd",
        "outputId": "65c7d60f-441a-475e-9126-9d436ba71b1e"
      },
      "id": "eKX--JjIAeBd",
      "execution_count": null,
      "outputs": [
        {
          "output_type": "stream",
          "name": "stdout",
          "text": [
            "(106912, 1)\n",
            "(106912, 6)\n",
            "(52659, 1)\n",
            "(52659, 6)\n"
          ]
        }
      ]
    }
  ],
  "metadata": {
    "kernelspec": {
      "display_name": "Python 3",
      "language": "python",
      "name": "python3"
    },
    "language_info": {
      "codemirror_mode": {
        "name": "ipython",
        "version": 3
      },
      "file_extension": ".py",
      "mimetype": "text/x-python",
      "name": "python",
      "nbconvert_exporter": "python",
      "pygments_lexer": "ipython3",
      "version": "3.8.8"
    },
    "colab": {
      "provenance": []
    }
  },
  "nbformat": 4,
  "nbformat_minor": 5
}